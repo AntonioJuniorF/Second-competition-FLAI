{
  "nbformat": 4,
  "nbformat_minor": 0,
  "metadata": {
    "colab": {
      "name": "Competição Flai parte 1.ipynb",
      "provenance": [],
      "collapsed_sections": [
        "chn8Ryw6q2Db"
      ]
    },
    "kernelspec": {
      "display_name": "Python 3",
      "name": "python3"
    },
    "language_info": {
      "name": "python"
    }
  },
  "cells": [
    {
      "cell_type": "markdown",
      "metadata": {
        "id": "Ou5QKWFsBiaT"
      },
      "source": [
        "# Objetivo da competição\n",
        " \n",
        "Na competição será utilizado um conjunto de dados relacionado com o resultado de campanhas de marketing de uma instituição financeira. O objetivo da modelagem é prever se um cliente fará um depósito.\n",
        " \n",
        "\n"
      ]
    },
    {
      "cell_type": "markdown",
      "metadata": {
        "id": "2-6mJxvY_8fQ"
      },
      "source": [
        "# Descrição do algoritmo\n",
        " \n",
        "Este algoritmo tem como objetivo realizar análise exploratória no dataset da segunda competição da flai. E realizar um estudo de qual melhor maneira de codificar as variáveis categóricas.  "
      ]
    },
    {
      "cell_type": "markdown",
      "metadata": {
        "id": "8K6sg6XbBR6E"
      },
      "source": [
        "# Descrição das colunas do dataset"
      ]
    },
    {
      "cell_type": "markdown",
      "metadata": {
        "id": "Wb14Sk6ZBYfQ"
      },
      "source": [
        "\n",
        "- **age:** Idade do cliente.\n",
        "- **job:** tipo de emprego.\n",
        "- **marital:** estado civil.\n",
        "- **education:** nível de educação.\n",
        "- **default:** é inadimplente?\n",
        "- **balnce:** quantidade em conta.\n",
        "- **loan:** Tem empréstimo pessoal?\n",
        "- **contact:** tipo de comunicação.\n",
        "- **moth:** mês do último contato.\n",
        "- **compaingn:** número de contatos realizados com o cliente.\n",
        "- **pdays:** número de dias que se passaram depois que o cliente foi constatado pela última vez em uma campanha anterior.\n",
        "- **previous:** número de contatos realizados antes desta campanha.\n",
        "- **poutcome:** resultado da campanha de marketing anterior.\n",
        "- **term_deposit:** o cliente fez um depósito? **[variável resposta]**\n",
        " \n"
      ]
    },
    {
      "cell_type": "markdown",
      "metadata": {
        "id": "qXG9l8e-BYiR"
      },
      "source": [
        "# Avaliação\n",
        " \n",
        " \n",
        " \n",
        " \n",
        " \n",
        "> A métrica alvo é do modelo com o melhor F1-Score. No caso essa medida se trata de uma média harmônica entre a medida de Precision e Recall, conforme está sendo mostrada na equação abaixo.\n",
        " \n",
        " \n",
        "> F1-Score = $2\\frac{Precision*Recall}{Precison + Recall}$\n",
        " \n",
        " \n",
        " \n",
        " \n",
        " \n",
        " \n",
        " \n",
        " \n",
        "---\n",
        " \n",
        " \n",
        "> Precision ou precisão: também conhecida como Valor Preditivo Positivo,é a métrica que traz a informação da quantidade de observações classificadas como positiva (1) que realmente são positiva. Ou seja, entre todas as observações identificadas como positivas (1), quantas foram identificadas corretamente.\n",
        " \n",
        " \n",
        " \n",
        "---\n",
        " \n",
        "> Recall ou Sensibilidade: entre todas as observações que realmente são positivas no seu conjunto de dados.  Ou seja, entre todas as observações que são positivas quantas o modelo conseguiu identificar como positiva. Representa a capacidade de um modelo em prever a classe positiva.\n",
        "\n",
        "##Refêrencia: \n",
        "https://www.flai.com.br/juscudilio/qual-a-melhor-metrica-para-avaliar-os-modelos-de-machine-learning/\n",
        " \n",
        " \n",
        " \n",
        " \n",
        " \n",
        " \n",
        " \n",
        " \n",
        " \n",
        " \n",
        " \n",
        " \n",
        " \n",
        " \n",
        "\n"
      ]
    },
    {
      "cell_type": "markdown",
      "metadata": {
        "id": "uKqgCAu-_1tD"
      },
      "source": [
        "# Biblioteca"
      ]
    },
    {
      "cell_type": "code",
      "metadata": {
        "id": "LDGOSI_X_6Mc",
        "colab": {
          "base_uri": "https://localhost:8080/"
        },
        "outputId": "ea13fd6e-240c-474e-bb5e-ef767d188dd6"
      },
      "source": [
        "# import pandas as pd\n",
        "import numpy as np\n",
        "import pandas as pd \n",
        "import seaborn as sns\n",
        "import matplotlib.pyplot as plt\n",
        "%matplotlib inline\n",
        "from google.colab import drive\n",
        "drive.mount('/content/drive')"
      ],
      "execution_count": null,
      "outputs": [
        {
          "output_type": "stream",
          "text": [
            "Mounted at /content/drive\n"
          ],
          "name": "stdout"
        }
      ]
    },
    {
      "cell_type": "markdown",
      "metadata": {
        "id": "PM9XwK3S_1y0"
      },
      "source": [
        "# Datasets de  treinanamento e teste\n",
        "\n"
      ]
    },
    {
      "cell_type": "code",
      "metadata": {
        "id": "KzTJgTennNXG"
      },
      "source": [
        "df_trein = pd.read_csv('/content/drive/My Drive/Competição FLAI/treino.csv') # dados usados para treinamento\n",
        "df_teste = pd.read_csv('/content/drive/My Drive/Competição FLAI/teste.csv')  # dados usado  para teste"
      ],
      "execution_count": null,
      "outputs": []
    },
    {
      "cell_type": "markdown",
      "metadata": {
        "id": "WAIT5iE3oHlJ"
      },
      "source": [
        "Análise exploratória dos dados"
      ]
    },
    {
      "cell_type": "code",
      "metadata": {
        "colab": {
          "base_uri": "https://localhost:8080/"
        },
        "id": "psHKYH_GoNOK",
        "outputId": "e373418a-20b4-4130-d9c1-282ef27d63ca"
      },
      "source": [
        "print('nome das colulas: \\n',df_trein.columns.values,'tamanho do dataflame:', df_trein.shape)\n",
        "print('\\n')\n",
        "print('nome das colulas: \\n',df_teste.columns.values,'tamanho do dataflame:', df_teste.shape)"
      ],
      "execution_count": null,
      "outputs": [
        {
          "output_type": "stream",
          "text": [
            "nome das colulas: \n",
            " ['Unnamed: 0' 'age' 'job' 'marital' 'education' 'default' 'balance'\n",
            " 'housing' 'loan' 'contact' 'day' 'month' 'campaign' 'pdays' 'previous'\n",
            " 'poutcome' 'term_deposit'] tamanho do dataflame: (6500, 17)\n",
            "\n",
            "\n",
            "nome das colulas: \n",
            " ['Unnamed: 0' 'age' 'job' 'marital' 'education' 'default' 'balance'\n",
            " 'housing' 'loan' 'contact' 'day' 'month' 'campaign' 'pdays' 'previous'\n",
            " 'poutcome'] tamanho do dataflame: (1422, 16)\n"
          ],
          "name": "stdout"
        }
      ]
    },
    {
      "cell_type": "code",
      "metadata": {
        "colab": {
          "base_uri": "https://localhost:8080/"
        },
        "id": "Ee3KYRJqo0Xe",
        "outputId": "8f321c76-4fba-44d4-fc26-c93398b37fd5"
      },
      "source": [
        "print('dados faltantes nos dados de treiamento: \\n',np.sum(df_trein.isnull(),axis = 0))\n",
        "\n",
        "print('\\n')\n",
        "print('dados faltantes no teste: \\n', np.sum(df_teste.isnull(),axis = 0))"
      ],
      "execution_count": null,
      "outputs": [
        {
          "output_type": "stream",
          "text": [
            "dados faltantes nos dados de treiamento: \n",
            " Unnamed: 0      0\n",
            "age             0\n",
            "job             0\n",
            "marital         0\n",
            "education       0\n",
            "default         0\n",
            "balance         0\n",
            "housing         0\n",
            "loan            0\n",
            "contact         0\n",
            "day             0\n",
            "month           0\n",
            "campaign        0\n",
            "pdays           0\n",
            "previous        0\n",
            "poutcome        0\n",
            "term_deposit    0\n",
            "dtype: int64\n",
            "\n",
            "\n",
            "dados faltantes no teste: \n",
            " Unnamed: 0    0\n",
            "age           0\n",
            "job           0\n",
            "marital       0\n",
            "education     0\n",
            "default       0\n",
            "balance       0\n",
            "housing       0\n",
            "loan          0\n",
            "contact       0\n",
            "day           0\n",
            "month         0\n",
            "campaign      0\n",
            "pdays         0\n",
            "previous      0\n",
            "poutcome      0\n",
            "dtype: int64\n"
          ],
          "name": "stdout"
        }
      ]
    },
    {
      "cell_type": "code",
      "metadata": {
        "colab": {
          "base_uri": "https://localhost:8080/"
        },
        "id": "d1Lrdf-7pMue",
        "outputId": "25dc5842-c0f2-434f-85dc-90251c627481"
      },
      "source": [
        "print('tipo das variáveis:\\n',df_trein.dtypes)"
      ],
      "execution_count": null,
      "outputs": [
        {
          "output_type": "stream",
          "text": [
            "tipo das variáveis:\n",
            " Unnamed: 0       int64\n",
            "age              int64\n",
            "job             object\n",
            "marital         object\n",
            "education       object\n",
            "default         object\n",
            "balance          int64\n",
            "housing         object\n",
            "loan            object\n",
            "contact         object\n",
            "day              int64\n",
            "month           object\n",
            "campaign         int64\n",
            "pdays            int64\n",
            "previous         int64\n",
            "poutcome        object\n",
            "term_deposit    object\n",
            "dtype: object\n"
          ],
          "name": "stdout"
        }
      ]
    },
    {
      "cell_type": "markdown",
      "metadata": {
        "id": "Z95FFEYefq7t"
      },
      "source": [
        "### Distribuições das variáveis"
      ]
    },
    {
      "cell_type": "code",
      "metadata": {
        "id": "kEukp-OLq1EN"
      },
      "source": [
        "colunas_intera =df_trein.columns[df_trein.dtypes == 'int64']  # Variáveis númericas\n",
        "colunas_object =df_trein.columns[df_trein.dtypes == 'object'] # Variáveis objetos"
      ],
      "execution_count": null,
      "outputs": []
    },
    {
      "cell_type": "code",
      "metadata": {
        "colab": {
          "base_uri": "https://localhost:8080/",
          "height": 840
        },
        "id": "66Bdhc-_pwST",
        "outputId": "ee46d5d3-2c82-4cac-a175-52fc68c41617"
      },
      "source": [
        "plt.figure(figsize=(24,16))\n",
        "for i in range(1,7):\n",
        "  plt.subplot(2,3,i)\n",
        "  plt.title(colunas_intera[i])\n",
        "  plt.hist(df_trein[colunas_intera[i]], bins = 30, histtype='step', color = 'red',linewidth = 3)\n",
        "  plt.grid(linestyle='--', linewidth=1)\n",
        "\n",
        "plt.show()"
      ],
      "execution_count": null,
      "outputs": [
        {
          "output_type": "display_data",
          "data": {
            "image/png": "[encoded data removed]",
            "text/plain": [
              "<Figure size 1728x1152 with 6 Axes>"
            ]
          },
          "metadata": {
            "tags": [],
            "needs_background": "light"
          }
        }
      ]
    },
    {
      "cell_type": "markdown",
      "metadata": {
        "id": "s7wMjevYf2mp"
      },
      "source": [
        "As váriaveis pdays e previous podem ser discretizadas, irei realizar este teste depois"
      ]
    },
    {
      "cell_type": "markdown",
      "metadata": {
        "id": "GbLIvkOuHASs"
      },
      "source": [
        "### Contagem das classes de cada variável objeto"
      ]
    },
    {
      "cell_type": "code",
      "metadata": {
        "colab": {
          "base_uri": "https://localhost:8080/"
        },
        "id": "prItHgzHqGsb",
        "outputId": "08707c3a-013a-4fc3-a68b-be8b10158af0"
      },
      "source": [
        "for i in range(len(colunas_object)):\n",
        "  #print(colunas_object[i])\n",
        "  print(df_trein[colunas_object[i]].value_counts())\n",
        "  print('\\n')"
      ],
      "execution_count": null,
      "outputs": [
        {
          "output_type": "stream",
          "text": [
            "management       1473\n",
            "blue-collar      1240\n",
            "technician       1045\n",
            "admin.            748\n",
            "services          579\n",
            "retired           397\n",
            "self-employed     240\n",
            "unemployed        219\n",
            "entrepreneur      188\n",
            "student           171\n",
            "housemaid         162\n",
            "unknown            38\n",
            "Name: job, dtype: int64\n",
            "\n",
            "\n",
            "married     3686\n",
            "single      2035\n",
            "divorced     779\n",
            "Name: marital, dtype: int64\n",
            "\n",
            "\n",
            "secondary    3220\n",
            "tertiary     2117\n",
            "primary       893\n",
            "unknown       270\n",
            "Name: education, dtype: int64\n",
            "\n",
            "\n",
            "no     6403\n",
            "yes      97\n",
            "Name: default, dtype: int64\n",
            "\n",
            "\n",
            "yes    3253\n",
            "no     3247\n",
            "Name: housing, dtype: int64\n",
            "\n",
            "\n",
            "no     5621\n",
            "yes     879\n",
            "Name: loan, dtype: int64\n",
            "\n",
            "\n",
            "cellular     4634\n",
            "unknown      1445\n",
            "telephone     421\n",
            "Name: contact, dtype: int64\n",
            "\n",
            "\n",
            "may    1720\n",
            "aug     918\n",
            "jul     889\n",
            "jun     746\n",
            "nov     604\n",
            "apr     578\n",
            "feb     381\n",
            "oct     211\n",
            "jan     137\n",
            "sep     113\n",
            "mar     113\n",
            "dec      90\n",
            "Name: month, dtype: int64\n",
            "\n",
            "\n",
            "unknown    5233\n",
            "failure     650\n",
            "success     369\n",
            "other       248\n",
            "Name: poutcome, dtype: int64\n",
            "\n",
            "\n",
            "no     3267\n",
            "yes    3233\n",
            "Name: term_deposit, dtype: int64\n",
            "\n",
            "\n"
          ],
          "name": "stdout"
        }
      ]
    },
    {
      "cell_type": "markdown",
      "metadata": {
        "id": "k9gCU0eDwFJi"
      },
      "source": [
        "A variável de Target está equilibrada, sobre as demais a loan e default podem ser candidatas a serem descartadas na hora da modelagem dos modelos de machine learning.\n"
      ]
    },
    {
      "cell_type": "markdown",
      "metadata": {
        "id": "hwB0DX_liFHp"
      },
      "source": [
        "### Olhando a relação dos dados em relação aos dados de target\n",
        "\n",
        "\n",
        "\n",
        "\n",
        "\n",
        "\n"
      ]
    },
    {
      "cell_type": "code",
      "metadata": {
        "colab": {
          "base_uri": "https://localhost:8080/",
          "height": 1000
        },
        "id": "k1bM1yjDsW8K",
        "outputId": "535200d9-f12e-4873-9d5b-381b63d5edf4"
      },
      "source": [
        "for i in range(1,7):\n",
        "  sns.displot(df_trein, x=colunas_intera[i], hue='term_deposit')\n",
        "  plt.show()"
      ],
      "execution_count": null,
      "outputs": [
        {
          "output_type": "display_data",
          "data": {
            "image/png": "[encoded data removed]",
            "text/plain": [
              "<Figure size 433.375x360 with 1 Axes>"
            ]
          },
          "metadata": {
            "tags": [],
            "needs_background": "light"
          }
        },
        {
          "output_type": "display_data",
          "data": {
            "image/png": "[encoded data removed]",
            "text/plain": [
              "<Figure size 433.375x360 with 1 Axes>"
            ]
          },
          "metadata": {
            "tags": [],
            "needs_background": "light"
          }
        },
        {
          "output_type": "display_data",
          "data": {
            "image/png": "[encoded data removed]",
            "text/plain": [
              "<Figure size 433.375x360 with 1 Axes>"
            ]
          },
          "metadata": {
            "tags": [],
            "needs_background": "light"
          }
        },
        {
          "output_type": "display_data",
          "data": {
            "image/png": "[encoded data removed]",
            "text/plain": [
              "<Figure size 433.375x360 with 1 Axes>"
            ]
          },
          "metadata": {
            "tags": [],
            "needs_background": "light"
          }
        },
        {
          "output_type": "display_data",
          "data": {
            "image/png": "[encoded data removed]",
            "text/plain": [
              "<Figure size 433.375x360 with 1 Axes>"
            ]
          },
          "metadata": {
            "tags": [],
            "needs_background": "light"
          }
        },
        {
          "output_type": "display_data",
          "data": {
            "image/png": "[encoded data removed]",
            "text/plain": [
              "<Figure size 433.375x360 with 1 Axes>"
            ]
          },
          "metadata": {
            "tags": [],
            "needs_background": "light"
          }
        }
      ]
    },
    {
      "cell_type": "markdown",
      "metadata": {
        "id": "U06BE8E_fGC9"
      },
      "source": [
        "Uma informação que vale destacar é que a maioria das pessoas acima de 60 anos tem uma alta chance de realizar o deposito"
      ]
    },
    {
      "cell_type": "code",
      "metadata": {
        "colab": {
          "base_uri": "https://localhost:8080/"
        },
        "id": "Ffoh9fAZmZyH",
        "outputId": "67b49307-3393-4381-d064-3b05592a0932"
      },
      "source": [
        "for i in range(len(colunas_object)):\n",
        "  print(colunas_object[i])\n",
        "  print(df_trein.groupby(['term_deposit'])[colunas_object[i]].value_counts())\n",
        "  print('\\n')"
      ],
      "execution_count": null,
      "outputs": [
        {
          "output_type": "stream",
          "text": [
            "job\n",
            "term_deposit  job          \n",
            "no            blue-collar      743\n",
            "              management       685\n",
            "              technician       512\n",
            "              admin.           374\n",
            "              services         330\n",
            "              retired          131\n",
            "              self-employed    120\n",
            "              unemployed       114\n",
            "              entrepreneur      99\n",
            "              housemaid         98\n",
            "              student           45\n",
            "              unknown           16\n",
            "yes           management       788\n",
            "              technician       533\n",
            "              blue-collar      497\n",
            "              admin.           374\n",
            "              retired          266\n",
            "              services         249\n",
            "              student          126\n",
            "              self-employed    120\n",
            "              unemployed       105\n",
            "              entrepreneur      89\n",
            "              housemaid         64\n",
            "              unknown           22\n",
            "Name: job, dtype: int64\n",
            "\n",
            "\n",
            "marital\n",
            "term_deposit  marital \n",
            "no            married     2014\n",
            "              single       896\n",
            "              divorced     357\n",
            "yes           married     1672\n",
            "              single      1139\n",
            "              divorced     422\n",
            "Name: marital, dtype: int64\n",
            "\n",
            "\n",
            "education\n",
            "term_deposit  education\n",
            "no            secondary    1682\n",
            "              tertiary      932\n",
            "              primary       510\n",
            "              unknown       143\n",
            "yes           secondary    1538\n",
            "              tertiary     1185\n",
            "              primary       383\n",
            "              unknown       127\n",
            "Name: education, dtype: int64\n",
            "\n",
            "\n",
            "default\n",
            "term_deposit  default\n",
            "no            no         3206\n",
            "              yes          61\n",
            "yes           no         3197\n",
            "              yes          36\n",
            "Name: default, dtype: int64\n",
            "\n",
            "\n",
            "housing\n",
            "term_deposit  housing\n",
            "no            yes        1898\n",
            "              no         1369\n",
            "yes           no         1878\n",
            "              yes        1355\n",
            "Name: housing, dtype: int64\n",
            "\n",
            "\n",
            "loan\n",
            "term_deposit  loan\n",
            "no            no      2721\n",
            "              yes      546\n",
            "yes           no      2900\n",
            "              yes      333\n",
            "Name: loan, dtype: int64\n",
            "\n",
            "\n",
            "contact\n",
            "term_deposit  contact  \n",
            "no            cellular     2023\n",
            "              unknown      1047\n",
            "              telephone     197\n",
            "yes           cellular     2611\n",
            "              unknown       398\n",
            "              telephone     224\n",
            "Name: contact, dtype: int64\n",
            "\n",
            "\n",
            "month\n",
            "term_deposit  month\n",
            "no            may      1070\n",
            "              jul       514\n",
            "              aug       472\n",
            "              jun       391\n",
            "              nov       306\n",
            "              apr       198\n",
            "              feb       179\n",
            "              jan        85\n",
            "              oct        20\n",
            "              sep        14\n",
            "              mar        11\n",
            "              dec         7\n",
            "yes           may       650\n",
            "              aug       446\n",
            "              apr       380\n",
            "              jul       375\n",
            "              jun       355\n",
            "              nov       298\n",
            "              feb       202\n",
            "              oct       191\n",
            "              mar       102\n",
            "              sep        99\n",
            "              dec        83\n",
            "              jan        52\n",
            "Name: month, dtype: int64\n",
            "\n",
            "\n",
            "poutcome\n",
            "term_deposit  poutcome\n",
            "no            unknown     2801\n",
            "              failure      326\n",
            "              other        108\n",
            "              success       32\n",
            "yes           unknown     2432\n",
            "              success      337\n",
            "              failure      324\n",
            "              other        140\n",
            "Name: poutcome, dtype: int64\n",
            "\n",
            "\n",
            "term_deposit\n",
            "term_deposit  term_deposit\n",
            "no            no              3267\n",
            "yes           yes             3233\n",
            "Name: term_deposit, dtype: int64\n",
            "\n",
            "\n"
          ],
          "name": "stdout"
        }
      ]
    },
    {
      "cell_type": "markdown",
      "metadata": {
        "id": "fbBFQNXRIhHa"
      },
      "source": [
        "A princípio não irei concluir nada sobre a relação dos dados com do target\n",
        " \n",
        " \n",
        " \n",
        "\n"
      ]
    },
    {
      "cell_type": "markdown",
      "metadata": {
        "id": "JMoimegrJW7k"
      },
      "source": [
        "# Estudo de qual melhor maneira de codificar as variáveis categóricas.  "
      ]
    },
    {
      "cell_type": "markdown",
      "metadata": {
        "id": "8ZotCSMMKR4_"
      },
      "source": [
        "### Primeiro teste: Aplicação só do LabelEncoder.\n",
        "\n",
        "\n",
        "\n",
        "\n",
        "\n"
      ]
    },
    {
      "cell_type": "markdown",
      "metadata": {
        "id": "kiEArvGap_EC"
      },
      "source": [
        "> A estratégia adotada será através da avaliação da performance de 4 banco de dados criados a partir dos dados de teste no classificador floresta aleatória. A descrição de cada dataflame está sendo mostrado a seguir:\n",
        "* Aux: Todas as variáveis.\n",
        "* aux1: Cortanto as colunas 'default','loan','job'.\n",
        "* aux2: Corta as colunas 'default','loan','job','poutcome'.\n",
        "* aux3: Apenas as variááveis númericas.\n",
        " \n",
        "\n"
      ]
    },
    {
      "cell_type": "code",
      "metadata": {
        "id": "EqnpnBHS0MFZ"
      },
      "source": [
        "\n",
        "df_trein.drop(columns=['Unnamed: 0'],inplace =True)"
      ],
      "execution_count": null,
      "outputs": []
    },
    {
      "cell_type": "code",
      "metadata": {
        "id": "fbQs9umRh4s0"
      },
      "source": [
        "\n",
        "df_trein['term_deposit'] = df_trein['term_deposit'].map({'no': 0, 'yes': 1})"
      ],
      "execution_count": null,
      "outputs": []
    },
    {
      "cell_type": "code",
      "metadata": {
        "colab": {
          "base_uri": "https://localhost:8080/",
          "height": 206
        },
        "id": "qMNi3eedh4vP",
        "outputId": "7e015c88-6740-4275-9ffa-0dd8605b2a08"
      },
      "source": [
        "df_trein.head()"
      ],
      "execution_count": null,
      "outputs": [
        {
          "output_type": "execute_result",
          "data": {
            "text/html": [
              "<div>\n",
              "<style scoped>\n",
              "    .dataframe tbody tr th:only-of-type {\n",
              "        vertical-align: middle;\n",
              "    }\n",
              "\n",
              "    .dataframe tbody tr th {\n",
              "        vertical-align: top;\n",
              "    }\n",
              "\n",
              "    .dataframe thead th {\n",
              "        text-align: right;\n",
              "    }\n",
              "</style>\n",
              "<table border=\"1\" class=\"dataframe\">\n",
              "  <thead>\n",
              "    <tr style=\"text-align: right;\">\n",
              "      <th></th>\n",
              "      <th>age</th>\n",
              "      <th>job</th>\n",
              "      <th>marital</th>\n",
              "      <th>education</th>\n",
              "      <th>default</th>\n",
              "      <th>balance</th>\n",
              "      <th>housing</th>\n",
              "      <th>loan</th>\n",
              "      <th>contact</th>\n",
              "      <th>day</th>\n",
              "      <th>month</th>\n",
              "      <th>campaign</th>\n",
              "      <th>pdays</th>\n",
              "      <th>previous</th>\n",
              "      <th>poutcome</th>\n",
              "      <th>term_deposit</th>\n",
              "    </tr>\n",
              "  </thead>\n",
              "  <tbody>\n",
              "    <tr>\n",
              "      <th>0</th>\n",
              "      <td>46</td>\n",
              "      <td>management</td>\n",
              "      <td>divorced</td>\n",
              "      <td>tertiary</td>\n",
              "      <td>no</td>\n",
              "      <td>14481</td>\n",
              "      <td>yes</td>\n",
              "      <td>no</td>\n",
              "      <td>unknown</td>\n",
              "      <td>30</td>\n",
              "      <td>may</td>\n",
              "      <td>1</td>\n",
              "      <td>-1</td>\n",
              "      <td>0</td>\n",
              "      <td>unknown</td>\n",
              "      <td>1</td>\n",
              "    </tr>\n",
              "    <tr>\n",
              "      <th>1</th>\n",
              "      <td>37</td>\n",
              "      <td>management</td>\n",
              "      <td>single</td>\n",
              "      <td>tertiary</td>\n",
              "      <td>no</td>\n",
              "      <td>457</td>\n",
              "      <td>yes</td>\n",
              "      <td>no</td>\n",
              "      <td>cellular</td>\n",
              "      <td>1</td>\n",
              "      <td>apr</td>\n",
              "      <td>3</td>\n",
              "      <td>-1</td>\n",
              "      <td>0</td>\n",
              "      <td>unknown</td>\n",
              "      <td>0</td>\n",
              "    </tr>\n",
              "    <tr>\n",
              "      <th>2</th>\n",
              "      <td>34</td>\n",
              "      <td>blue-collar</td>\n",
              "      <td>single</td>\n",
              "      <td>secondary</td>\n",
              "      <td>no</td>\n",
              "      <td>1698</td>\n",
              "      <td>yes</td>\n",
              "      <td>no</td>\n",
              "      <td>unknown</td>\n",
              "      <td>27</td>\n",
              "      <td>may</td>\n",
              "      <td>7</td>\n",
              "      <td>-1</td>\n",
              "      <td>0</td>\n",
              "      <td>unknown</td>\n",
              "      <td>0</td>\n",
              "    </tr>\n",
              "    <tr>\n",
              "      <th>3</th>\n",
              "      <td>45</td>\n",
              "      <td>unemployed</td>\n",
              "      <td>single</td>\n",
              "      <td>secondary</td>\n",
              "      <td>no</td>\n",
              "      <td>33</td>\n",
              "      <td>no</td>\n",
              "      <td>no</td>\n",
              "      <td>cellular</td>\n",
              "      <td>5</td>\n",
              "      <td>feb</td>\n",
              "      <td>1</td>\n",
              "      <td>-1</td>\n",
              "      <td>0</td>\n",
              "      <td>unknown</td>\n",
              "      <td>0</td>\n",
              "    </tr>\n",
              "    <tr>\n",
              "      <th>4</th>\n",
              "      <td>31</td>\n",
              "      <td>management</td>\n",
              "      <td>married</td>\n",
              "      <td>tertiary</td>\n",
              "      <td>no</td>\n",
              "      <td>131</td>\n",
              "      <td>no</td>\n",
              "      <td>no</td>\n",
              "      <td>cellular</td>\n",
              "      <td>18</td>\n",
              "      <td>feb</td>\n",
              "      <td>2</td>\n",
              "      <td>-1</td>\n",
              "      <td>0</td>\n",
              "      <td>unknown</td>\n",
              "      <td>1</td>\n",
              "    </tr>\n",
              "  </tbody>\n",
              "</table>\n",
              "</div>"
            ],
            "text/plain": [
              "   age          job   marital  ... previous poutcome  term_deposit\n",
              "0   46   management  divorced  ...        0  unknown             1\n",
              "1   37   management    single  ...        0  unknown             0\n",
              "2   34  blue-collar    single  ...        0  unknown             0\n",
              "3   45   unemployed    single  ...        0  unknown             0\n",
              "4   31   management   married  ...        0  unknown             1\n",
              "\n",
              "[5 rows x 16 columns]"
            ]
          },
          "metadata": {
            "tags": []
          },
          "execution_count": 13
        }
      ]
    },
    {
      "cell_type": "code",
      "metadata": {
        "id": "XYqA0YNBpxqR"
      },
      "source": [
        "df_aux  = df_trein.copy()\n",
        "df_aux1 = df_trein.copy()\n",
        "df_aux2 = df_trein.copy()\n",
        "df_aux3 = df_trein.copy()"
      ],
      "execution_count": null,
      "outputs": []
    },
    {
      "cell_type": "code",
      "metadata": {
        "id": "TYUxSjQZi2mq"
      },
      "source": [
        "df_aux1.drop(columns=['default','loan','job'],inplace =True)\n",
        "df_aux2.drop(columns=['default','loan','job','poutcome'],inplace =True)\n",
        "df_aux3.drop(columns=colunas_object,inplace =True)\n"
      ],
      "execution_count": null,
      "outputs": []
    },
    {
      "cell_type": "code",
      "metadata": {
        "id": "LX7go7kN0-su"
      },
      "source": [
        "df_aux3['term_deposit'] =df_aux1['term_deposit']"
      ],
      "execution_count": null,
      "outputs": []
    },
    {
      "cell_type": "code",
      "metadata": {
        "id": "tGXkOUOpjLuX"
      },
      "source": [
        "from sklearn.preprocessing import LabelEncoder"
      ],
      "execution_count": null,
      "outputs": []
    },
    {
      "cell_type": "code",
      "metadata": {
        "id": "RUN3Qx8O1L6X"
      },
      "source": [
        "df_aux1_V1 = df_aux1.copy()\n",
        "df_aux1_V2 = df_aux1.copy()"
      ],
      "execution_count": null,
      "outputs": []
    },
    {
      "cell_type": "code",
      "metadata": {
        "id": "RZwYUvxA8QjY"
      },
      "source": [
        "def encoder_var(df):\n",
        "  ind = df.columns[df.dtypes == 'object']\n",
        "\n",
        "  for i in range(len(ind)):\n",
        "    enc = LabelEncoder()\n",
        "    inteiros = enc.fit_transform(df[ind[i]])\n",
        "    df[ind[i]] = inteiros\n",
        "\n",
        "  return df"
      ],
      "execution_count": null,
      "outputs": []
    },
    {
      "cell_type": "code",
      "metadata": {
        "id": "J6Uq__St0yi5"
      },
      "source": [
        "#ind = df_aux1_V1.columns[df_aux1_V1.dtypes == 'object']\n",
        "\n",
        "#for i in range(len(ind)):\n",
        "#  enc = LabelEncoder()\n",
        "#  inteiros = enc.fit_transform(df_aux1_V1[ind[i]])\n",
        "#  df_aux1_V1[ind[i]] = inteiros\n",
        "\n",
        "df_aux = encoder_var(df_aux)\n",
        "df_aux1_V1 = encoder_var(df_aux1_V1)\n",
        "df_aux2 = encoder_var(df_aux2)"
      ],
      "execution_count": null,
      "outputs": []
    },
    {
      "cell_type": "code",
      "metadata": {
        "id": "tWVYfkvBY5sI"
      },
      "source": [
        ""
      ],
      "execution_count": null,
      "outputs": []
    },
    {
      "cell_type": "code",
      "metadata": {
        "id": "_P2kJKlm0ylY"
      },
      "source": [
        "from sklearn.model_selection import KFold\n",
        "from sklearn.ensemble import RandomForestClassifier #use RandomForestRegressor para problemas de regressão\n",
        "from sklearn.metrics import f1_score\n",
        "from sklearn.preprocessing import StandardScaler\n",
        "from sklearn.neural_network import MLPClassifier\n",
        "from xgboost.sklearn import XGBClassifier"
      ],
      "execution_count": null,
      "outputs": []
    },
    {
      "cell_type": "code",
      "metadata": {
        "id": "AtgdPhuJvv-x"
      },
      "source": [
        "def resultados(X_train,y_train,linhas_treino,linhas_valid,c):\n",
        "\n",
        "    #print('a')\n",
        "    X_t, X_v = X_train[linhas_treino], X_train[linhas_valid]\n",
        "    y_t, y_v = y_train[linhas_treino], y_train[linhas_valid]\n",
        "    #print('b')\n",
        "    #y_t = y_t.values.reshape(1,-1)\n",
        "    #y_v = y_v.values.reshape(1,-1)\n",
        "    model = RandomForestClassifier(n_estimators=1000, n_jobs=6, random_state=10)\n",
        "\n",
        "    #X_v.shape()\n",
        "    # resultados floresta aleatoria\n",
        "    model.fit(X_t, y_t)\n",
        "\n",
        "    prf = model.predict_proba(X_v)[:,1]\n",
        "    prf_ = (prf > c).astype(int)\n",
        "\n",
        "    acerto_v = f1_score(y_v, prf_)\n",
        "\n",
        "\n",
        "    #print('c')\n",
        "    #y_pred = model.predict(X_v)\n",
        "    #acerto_v  = f1_score(y_v,y_pred)\n",
        "\n",
        "    return acerto_v"
      ],
      "execution_count": null,
      "outputs": []
    },
    {
      "cell_type": "code",
      "metadata": {
        "id": "xIi5Ugk3qiHr"
      },
      "source": [
        "kf = KFold(n_splits=10, random_state=5, shuffle=True)"
      ],
      "execution_count": null,
      "outputs": []
    },
    {
      "cell_type": "code",
      "metadata": {
        "id": "FpDHK3EodhNq"
      },
      "source": [
        "X_train  = df_aux.drop(columns='term_deposit')\n",
        "X_train1 = df_aux1_V1.drop(columns='term_deposit')\n",
        "X_train2 = df_aux2.drop(columns='term_deposit')\n",
        "X_train3 = df_aux3.drop(columns='term_deposit')\n",
        "\n",
        "y_train1 = df_aux1_V1['term_deposit']\n"
      ],
      "execution_count": null,
      "outputs": []
    },
    {
      "cell_type": "code",
      "metadata": {
        "id": "fKFYuphldaVM",
        "colab": {
          "base_uri": "https://localhost:8080/"
        },
        "outputId": "03085e52-cdca-4e9e-8af5-26886e4972bb"
      },
      "source": [
        "\n",
        "j = 0 \n",
        "#i = 30\n",
        "for k in np.arange(0.1,1,0.1):\n",
        "  j =0\n",
        "\n",
        "  acerto_v     = np.zeros(10)\n",
        "  acerto_v1    = np.zeros(10)\n",
        "  acerto_v2    = np.zeros(10)\n",
        "  acerto_v3    = np.zeros(10)\n",
        "  for linhas_treino, linhas_valid in kf.split(X_train1):\n",
        "    acerto_v[j] =  resultados(X_train.values,y_train1.values,linhas_treino,linhas_valid,k)\n",
        "    acerto_v1[j] =  resultados(X_train1.values,y_train1.values,linhas_treino,linhas_valid,k)\n",
        "    acerto_v2[j] =  resultados(X_train2.values,y_train1.values,linhas_treino,linhas_valid,k)\n",
        "    acerto_v3[j] =  resultados(X_train3.values,y_train1.values,linhas_treino,linhas_valid,k)\n",
        "  \n",
        "    j = j = j+1\n",
        "\n",
        "  print('limiar', str(k))\n",
        "  print('dataset aux  f1-score:     ',np.format_float_positional(np.mean(acerto_v),5),' erro:',np.format_float_positional(np.std(acerto_v)/np.sqrt(10),5),' desvio padrão:',np.format_float_positional(np.std(acerto_v),5))\n",
        "  print('dataset aux1 f1-score:     ',np.format_float_positional(np.mean(acerto_v1),5),' erro:',np.format_float_positional(np.std(acerto_v1)/np.sqrt(10),5),' desivo padrão:',np.format_float_positional(np.std(acerto_v1),5))\n",
        "  print('dataset axu2 f1-score:     ',np.format_float_positional(np.mean(acerto_v2),5),' erro:',np.format_float_positional(np.std(acerto_v2)/np.sqrt(10),5),' desvio padrão:',np.format_float_positional(np.std(acerto_v2),5))\n",
        "  print('dataset aux3 f1-score:     ',np.format_float_positional(np.mean(acerto_v3),5),' erro:',np.format_float_positional(np.std(acerto_v3)/np.sqrt(10),5),' desvio padrão:',np.format_float_positional(np.std(acerto_v3),5))\n",
        "\n",
        "  print('\\n')"
      ],
      "execution_count": null,
      "outputs": [
        {
          "output_type": "stream",
          "text": [
            "limiar 0.1\n",
            "dataset aux  f1-score:      0.66469  erro: 0.00394  desvio padrão: 0.01245\n",
            "dataset aux1 f1-score:      0.66616  erro: 0.00402  desivo padrão: 0.01272\n",
            "dataset axu2 f1-score:      0.66637  erro: 0.00376  desvio padrão: 0.0119\n",
            "dataset aux3 f1-score:      0.66435  erro: 0.00332  desvio padrão: 0.01051\n",
            "\n",
            "\n",
            "limiar 0.2\n",
            "dataset aux  f1-score:      0.6757  erro: 0.0041  desvio padrão: 0.01295\n",
            "dataset aux1 f1-score:      0.67773  erro: 0.00394  desivo padrão: 0.01247\n",
            "dataset axu2 f1-score:      0.67666  erro: 0.00392  desvio padrão: 0.01241\n",
            "dataset aux3 f1-score:      0.66654  erro: 0.00332  desvio padrão: 0.01049\n",
            "\n",
            "\n",
            "limiar 0.30000000000000004\n",
            "dataset aux  f1-score:      0.68914  erro: 0.00372  desvio padrão: 0.01176\n",
            "dataset aux1 f1-score:      0.69119  erro: 0.00269  desivo padrão: 0.00851\n",
            "dataset axu2 f1-score:      0.69176  erro: 0.00318  desvio padrão: 0.01006\n",
            "dataset aux3 f1-score:      0.66379  erro: 0.00393  desvio padrão: 0.01241\n",
            "\n",
            "\n",
            "limiar 0.4\n",
            "dataset aux  f1-score:      0.70018  erro: 0.00433  desvio padrão: 0.01371\n",
            "dataset aux1 f1-score:      0.6966  erro: 0.00353  desivo padrão: 0.01118\n",
            "dataset axu2 f1-score:      0.69502  erro: 0.00408  desvio padrão: 0.0129\n",
            "dataset aux3 f1-score:      0.64957  erro: 0.00525  desvio padrão: 0.01659\n",
            "\n",
            "\n",
            "limiar 0.5\n",
            "dataset aux  f1-score:      0.67274  erro: 0.00499  desvio padrão: 0.01579\n",
            "dataset aux1 f1-score:      0.67107  erro: 0.00626  desivo padrão: 0.01979\n",
            "dataset axu2 f1-score:      0.66888  erro: 0.00643  desvio padrão: 0.02032\n",
            "dataset aux3 f1-score:      0.60184  erro: 0.00654  desvio padrão: 0.02069\n",
            "\n",
            "\n",
            "limiar 0.6\n",
            "dataset aux  f1-score:      0.60531  erro: 0.00913  desvio padrão: 0.02886\n",
            "dataset aux1 f1-score:      0.61511  erro: 0.00791  desivo padrão: 0.02501\n",
            "dataset axu2 f1-score:      0.61441  erro: 0.00813  desvio padrão: 0.02571\n",
            "dataset aux3 f1-score:      0.53272  erro: 0.00762  desvio padrão: 0.02409\n",
            "\n",
            "\n",
            "limiar 0.7000000000000001\n",
            "dataset aux  f1-score:      0.49804  erro: 0.01166  desvio padrão: 0.03687\n",
            "dataset aux1 f1-score:      0.51651  erro: 0.0112  desivo padrão: 0.03540\n",
            "dataset axu2 f1-score:      0.50455  erro: 0.01202  desvio padrão: 0.03802\n",
            "dataset aux3 f1-score:      0.42215  erro: 0.01178  desvio padrão: 0.03726\n",
            "\n",
            "\n",
            "limiar 0.8\n",
            "dataset aux  f1-score:      0.35415  erro: 0.01041  desvio padrão: 0.03292\n",
            "dataset aux1 f1-score:      0.37277  erro: 0.0111  desivo padrão: 0.03510\n",
            "dataset axu2 f1-score:      0.36574  erro: 0.01264  desvio padrão: 0.03998\n",
            "dataset aux3 f1-score:      0.30518  erro: 0.01265  desvio padrão: 0.04001\n",
            "\n",
            "\n",
            "limiar 0.9\n",
            "dataset aux  f1-score:      0.13705  erro: 0.01081  desvio padrão: 0.03419\n",
            "dataset aux1 f1-score:      0.15783  erro: 0.00814  desivo padrão: 0.02576\n",
            "dataset axu2 f1-score:      0.15921  erro: 0.00674  desvio padrão: 0.02132\n",
            "dataset aux3 f1-score:      0.1276  erro: 0.00874  desvio padrão: 0.02764\n",
            "\n",
            "\n"
          ],
          "name": "stdout"
        }
      ]
    },
    {
      "cell_type": "markdown",
      "metadata": {
        "id": "KJMfbCwzPYko"
      },
      "source": [
        "Os datasets aux, aux1 e aux2 estão indicando desempenho parecidos com o corte de 0.4. A mudança do valor de f1-score de cada dataset pode estar variando por efeito de flutuação estatística. No caso do corte igual 0.3 o melhor resultado foi para dataset axu2.  "
      ]
    },
    {
      "cell_type": "markdown",
      "metadata": {
        "id": "WmTzU8FRQhyb"
      },
      "source": [
        "### Segundo teste: Convertendo a variável do tipo objeto para uma dummy.\n",
        " \n",
        "A nova estratégia aplicada agora vai ser usar o LabelEncoder nas variáveis categóricas que possuem duas classes. Depois será avaliado o desempenho da floresta aleatória quando variáveis  'job','marital','education','contact','month','poutcome' são transformadas do tipo dummy.\n",
        " \n"
      ]
    },
    {
      "cell_type": "code",
      "metadata": {
        "id": "KWG9NCGEhflI"
      },
      "source": [
        "def enconder_label(col,df):\n",
        "\n",
        "  for i in range(len(col)):\n",
        "    enc = LabelEncoder()\n",
        "    inteiros = enc.fit_transform(df[col[i]])\n",
        "    df[col[i]] = inteiros\n",
        "\n",
        "  return df"
      ],
      "execution_count": null,
      "outputs": []
    },
    {
      "cell_type": "code",
      "metadata": {
        "colab": {
          "base_uri": "https://localhost:8080/"
        },
        "id": "N_zjfaC7vGCI",
        "outputId": "54396cb7-bfc6-46cd-d4c0-a309015dd64e"
      },
      "source": [
        "df_T  = df_trein.copy()\n",
        "col  = ['default','housing','loan']\n",
        "df_T  = enconder_label(col,df_T)\n",
        "\n",
        "#coluna = ['month','marital','job','education','poutcome','contact']\n",
        "\n",
        "coluna = ['month','marital','contact','education','poutcome','job']\n",
        " \n",
        "\n",
        "i = 1\n",
        "\n",
        "matrix_m = np.zeros((len(coluna)-1,len(np.arange(0.1,1,0.1))))\n",
        "matrix_s = np.zeros((len(coluna)-1,len(np.arange(0.1,1,0.1))))\n",
        "\n",
        "\n",
        "z = 0\n",
        "for k in np.arange(0.1,1,0.1):\n",
        "  print('limiar', str(k))\n",
        "  for i in range(1,len(coluna)):\n",
        "    df_aux    = df_T.copy()\n",
        "    \n",
        "    df_aux = df_aux.join(pd.get_dummies(df_aux[coluna[:i]], prefix=coluna[:i]))\n",
        "    df_aux = df_aux.drop(columns=coluna[:i])\n",
        "    df_aux  = enconder_label(coluna[i:],df_aux)\n",
        "    acerto_v     = np.zeros(10)\n",
        "    j = 0\n",
        "\n",
        "    X_train2  = df_aux.drop(columns='term_deposit')\n",
        "    y_train = df_aux['term_deposit']\n",
        "\n",
        "    for linhas_treino, linhas_valid in kf.split(X_train1):\n",
        "      acerto_v[j] =  resultados(X_train2.values,y_train.values,linhas_treino,linhas_valid,k)\n",
        "      j = j = j+1\n",
        "      \n",
        "    print('Coluna',coluna[i-1],'f1-score:',np.format_float_positional(np.mean(acerto_v),5),'erro:',np.format_float_positional(np.std(acerto_v)/np.sqrt(10),5),' desvio padrão:',np.format_float_positional(np.std(acerto_v),5))\n",
        "    \n",
        "    matrix_m[i-1,z] = np.mean(acerto_v)\n",
        "    matrix_s[i-1,z] = np.std(acerto_v)\n",
        "\n",
        "  z = z +1  \n",
        "  print('\\n')"
      ],
      "execution_count": null,
      "outputs": [
        {
          "output_type": "stream",
          "text": [
            "limiar 0.1\n",
            "Coluna month f1-score: 0.66608 erro: 0.00414  desvio padrão: 0.01308\n",
            "Coluna marital f1-score: 0.66643 erro: 0.0039  desvio padrão: 0.01232\n",
            "Coluna contact f1-score: 0.66734 erro: 0.00379  desvio padrão: 0.01197\n",
            "Coluna education f1-score: 0.66650 erro: 0.00397  desvio padrão: 0.01255\n",
            "Coluna poutcome f1-score: 0.66685 erro: 0.00384  desvio padrão: 0.01215\n",
            "\n",
            "\n",
            "limiar 0.2\n",
            "Coluna month f1-score: 0.67565 erro: 0.00318  desvio padrão: 0.01004\n",
            "Coluna marital f1-score: 0.67640 erro: 0.00284  desvio padrão: 0.00898\n",
            "Coluna contact f1-score: 0.67687 erro: 0.00293  desvio padrão: 0.00926\n",
            "Coluna education f1-score: 0.67618 erro: 0.00316  desvio padrão: 0.01000\n",
            "Coluna poutcome f1-score: 0.67755 erro: 0.00277  desvio padrão: 0.00876\n",
            "\n",
            "\n",
            "limiar 0.30000000000000004\n",
            "Coluna month f1-score: 0.69058 erro: 0.00357  desvio padrão: 0.0113\n",
            "Coluna marital f1-score: 0.69133 erro: 0.00371  desvio padrão: 0.01172\n",
            "Coluna contact f1-score: 0.69197 erro: 0.00378  desvio padrão: 0.01197\n",
            "Coluna education f1-score: 0.69014 erro: 0.0045  desvio padrão: 0.01422\n",
            "Coluna poutcome f1-score: 0.69168 erro: 0.00372  desvio padrão: 0.01177\n",
            "\n",
            "\n",
            "limiar 0.4\n",
            "Coluna month f1-score: 0.70403 erro: 0.00462  desvio padrão: 0.01460\n",
            "Coluna marital f1-score: 0.70364 erro: 0.00396  desvio padrão: 0.01253\n",
            "Coluna contact f1-score: 0.70501 erro: 0.00402  desvio padrão: 0.01271\n",
            "Coluna education f1-score: 0.70237 erro: 0.00399  desvio padrão: 0.01260\n",
            "Coluna poutcome f1-score: 0.70208 erro: 0.00407  desvio padrão: 0.01288\n",
            "\n",
            "\n",
            "limiar 0.5\n",
            "Coluna month f1-score: 0.67991 erro: 0.00598  desvio padrão: 0.01890\n",
            "Coluna marital f1-score: 0.68094 erro: 0.00533  desvio padrão: 0.01685\n",
            "Coluna contact f1-score: 0.68119 erro: 0.00617  desvio padrão: 0.01951\n",
            "Coluna education f1-score: 0.68452 erro: 0.00575  desvio padrão: 0.01818\n",
            "Coluna poutcome f1-score: 0.68048 erro: 0.00669  desvio padrão: 0.02117\n",
            "\n",
            "\n",
            "limiar 0.6\n",
            "Coluna month f1-score: 0.62534 erro: 0.00880  desvio padrão: 0.02783\n",
            "Coluna marital f1-score: 0.6294 erro: 0.00823  desvio padrão: 0.02603\n",
            "Coluna contact f1-score: 0.62883 erro: 0.0072  desvio padrão: 0.02277\n",
            "Coluna education f1-score: 0.62511 erro: 0.00662  desvio padrão: 0.02094\n",
            "Coluna poutcome f1-score: 0.62355 erro: 0.00779  desvio padrão: 0.02462\n",
            "\n",
            "\n",
            "limiar 0.7000000000000001\n",
            "Coluna month f1-score: 0.53208 erro: 0.01027  desvio padrão: 0.03249\n",
            "Coluna marital f1-score: 0.53391 erro: 0.01027  desvio padrão: 0.03247\n",
            "Coluna contact f1-score: 0.52823 erro: 0.01059  desvio padrão: 0.03349\n",
            "Coluna education f1-score: 0.52447 erro: 0.00896  desvio padrão: 0.02832\n",
            "Coluna poutcome f1-score: 0.52756 erro: 0.00931  desvio padrão: 0.02944\n",
            "\n",
            "\n",
            "limiar 0.8\n",
            "Coluna month f1-score: 0.38726 erro: 0.01287  desvio padrão: 0.04071\n",
            "Coluna marital f1-score: 0.38071 erro: 0.01169  desvio padrão: 0.03696\n",
            "Coluna contact f1-score: 0.37757 erro: 0.01242  desvio padrão: 0.03928\n",
            "Coluna education f1-score: 0.37214 erro: 0.01166  desvio padrão: 0.03689\n",
            "Coluna poutcome f1-score: 0.37968 erro: 0.01128  desvio padrão: 0.03566\n",
            "\n",
            "\n",
            "limiar 0.9\n",
            "Coluna month f1-score: 0.18123 erro: 0.01010  desvio padrão: 0.03194\n",
            "Coluna marital f1-score: 0.16939 erro: 0.01208  desvio padrão: 0.03821\n",
            "Coluna contact f1-score: 0.16384 erro: 0.01148  desvio padrão: 0.0363\n",
            "Coluna education f1-score: 0.16034 erro: 0.01018  desvio padrão: 0.03218\n",
            "Coluna poutcome f1-score: 0.19492 erro: 0.01187  desvio padrão: 0.03754\n",
            "\n",
            "\n"
          ],
          "name": "stdout"
        }
      ]
    },
    {
      "cell_type": "code",
      "metadata": {
        "id": "4in98ZnjecWH",
        "colab": {
          "base_uri": "https://localhost:8080/"
        },
        "outputId": "71fcf01a-c904-4e69-fb3c-a0b1590fce2c"
      },
      "source": [
        "df_T  = df_trein.copy()\n",
        "col   = ['default','housing','loan']\n",
        "df_T  = enconder_label(col,df_T)\n",
        "\n",
        "coluna = ['month','marital','job','education','poutcome','contact']\n",
        "\n",
        "\n",
        "df_aux = df_T.copy()\n",
        "\n",
        "for i in range(len(coluna)):\n",
        "  \n",
        "  df_aux = df_aux.join(pd.get_dummies(df_aux[coluna[i]], prefix=coluna[i]))\n",
        "  df_aux = df_aux.drop(columns=coluna[i])\n",
        "    \n",
        "\n",
        "acerto_v     = np.zeros(10)\n",
        "\n",
        "\n",
        "X_train2  = df_aux.drop(columns='term_deposit')\n",
        "y_train = df_aux['term_deposit']\n",
        "\n",
        "for k in np.arange(0.1,1,0.1):\n",
        "  print('limiar', str(k))\n",
        "  j = 0\n",
        "  for linhas_treino, linhas_valid in kf.split(X_train1):\n",
        "    acerto_v[j] =  resultados(X_train2.values,y_train.values,linhas_treino,linhas_valid,k)\n",
        "    j = j = j+1\n",
        "      \n",
        "  print('f1-score:',np.format_float_positional(np.mean(acerto_v),5),'erro:',np.format_float_positional(np.std(acerto_v)/np.sqrt(10),5),' desvio padrão:',np.format_float_positional(np.std(acerto_v),5))\n",
        "  \n",
        "\n",
        "  z = z +1  \n",
        "  print('\\n')"
      ],
      "execution_count": null,
      "outputs": [
        {
          "output_type": "stream",
          "text": [
            "limiar 0.1\n",
            "f1-score: 0.66524 erro: 0.00391  desvio padrão: 0.01236\n",
            "\n",
            "\n",
            "limiar 0.2\n",
            "f1-score: 0.67825 erro: 0.00325  desvio padrão: 0.01029\n",
            "\n",
            "\n",
            "limiar 0.30000000000000004\n",
            "f1-score: 0.69197 erro: 0.00386  desvio padrão: 0.01222\n",
            "\n",
            "\n",
            "limiar 0.4\n",
            "f1-score: 0.69473 erro: 0.00413  desvio padrão: 0.01307\n",
            "\n",
            "\n",
            "limiar 0.5\n",
            "f1-score: 0.67595 erro: 0.00524  desvio padrão: 0.01657\n",
            "\n",
            "\n",
            "limiar 0.6\n",
            "f1-score: 0.61831 erro: 0.00699  desvio padrão: 0.02209\n",
            "\n",
            "\n",
            "limiar 0.7000000000000001\n",
            "f1-score: 0.52299 erro: 0.00894  desvio padrão: 0.02826\n",
            "\n",
            "\n",
            "limiar 0.8\n",
            "f1-score: 0.3798 erro: 0.01283  desvio padrão: 0.04057\n",
            "\n",
            "\n",
            "limiar 0.9\n",
            "f1-score: 0.18068 erro: 0.01176  desvio padrão: 0.03718\n",
            "\n",
            "\n"
          ],
          "name": "stdout"
        }
      ]
    },
    {
      "cell_type": "markdown",
      "metadata": {
        "id": "VpuJFee9heID"
      },
      "source": [
        "O melhor resultado apresentado é quando aplica o dummy nas variáveis 'month','marital','contact' e nas demais é aplicado o labelenconder. O Valor de corte é de 0.4 \n",
        "\n"
      ]
    },
    {
      "cell_type": "code",
      "metadata": {
        "id": "zmJ-Um_Fg9Ff"
      },
      "source": [
        ""
      ],
      "execution_count": null,
      "outputs": []
    }
  ]
}