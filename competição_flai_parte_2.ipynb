{
  "nbformat": 4,
  "nbformat_minor": 0,
  "metadata": {
    "colab": {
      "name": "competição flai parte 2.ipynb",
      "provenance": [],
      "collapsed_sections": []
    },
    "kernelspec": {
      "display_name": "Python 3",
      "name": "python3"
    },
    "language_info": {
      "name": "python"
    }
  },
  "cells": [
    {
      "cell_type": "markdown",
      "metadata": {
        "id": "QvFvdXqT3U2J"
      },
      "source": [
        "# Descrição do algoritmo\n",
        "\n",
        "Este algoritmo tem como objetivo avaliar diversos classificadores. Para decidir qual deles será utilizado para classificar os dados de teste da competição. \n"
      ]
    },
    {
      "cell_type": "markdown",
      "metadata": {
        "id": "8WU--DE53U5f"
      },
      "source": [
        "# Critério de avaliação.\n",
        " \n",
        "O melhor modelo será escolhido aquele que conseguir o melhor valor de f1-score.\n",
        " \n",
        "Uma outra métrica também será utilizada para avaliar o classificador, no caso o log-loss. \n",
        " \n",
        "\n"
      ]
    },
    {
      "cell_type": "markdown",
      "metadata": {
        "id": "rE0akHrp6ZOr"
      },
      "source": [
        "# Log-loss\n",
        "$H(q) = -\\frac{1}{N}\\sum_{i =1}^{N}y_{i}*log(p(y_{i})) + (1 - y_{i})*log(1 - p(y_{i}))$\n",
        " \n",
        "#####$H(q)$ - > Log Loss\n",
        "N -> Número de eventos\n",
        " \n",
        "$y_{i}$ -> Valor da classe\n",
        "$p(y_{i})$ -> probabilidade calculada do dado pertence esta classe\n",
        " \n",
        "---\n",
        "### Interpretação da equação\n",
        "Esta equação penaliza a classificação errada. No caso quanto maior a distância da probabilidade calculada do valor da classe original maior será a penalidade.\n",
        " \n",
        "####Quanto mais próximo o valor de log-loss for de 0. Melhor será o resultado da classificação. \n",
        "---\n",
        " \n",
        " \n",
        " \n",
        " \n",
        " \n",
        "\n"
      ]
    },
    {
      "cell_type": "markdown",
      "metadata": {
        "id": "-3fHyGJy9yLy"
      },
      "source": [
        "# Modelos utilizados.\n",
        " \n",
        "> Floresta aleatória\n",
        " \n",
        "> ExtraTrees\n",
        " \n",
        "> Regressão logística (Dados normalizados pelo MinMax)\n",
        " \n",
        "> Regressão logística (Dados normalizados pelo desvio padrão)\n",
        " \n",
        "> KNN (Dados normalizados pelo MinMax)\n",
        " \n",
        "> KNN (Dados normalizados pelo desvio padrão)\n",
        " \n",
        "> XGBoost\n",
        " \n",
        "> MLP (Dados normalizados pelo desvio padrão)\n",
        " \n",
        "---\n",
        " \n",
        "> Um outro modelo também que será avaliado é um baseado em **Staking**. O primeiro nível dele são as probabilidades dos classificadores anteriores, o segundo nível é uma regressão logística.\n"
      ]
    },
    {
      "cell_type": "markdown",
      "metadata": {
        "id": "Fm5CsPw9WRlV"
      },
      "source": [
        "#Biblioteca"
      ]
    },
    {
      "cell_type": "code",
      "metadata": {
        "colab": {
          "base_uri": "https://localhost:8080/"
        },
        "id": "EpjI60veWVG4",
        "outputId": "26a67121-c288-4cbe-bb09-c61560e11ff2"
      },
      "source": [
        "\n",
        "import numpy as np\n",
        "import pandas as pd \n",
        "import seaborn as sns\n",
        "import matplotlib.pyplot as plt\n",
        "%matplotlib inline\n",
        "from google.colab import drive\n",
        "drive.mount('/content/drive')\n",
        "\n",
        "from sklearn.ensemble import RandomForestClassifier, ExtraTreesClassifier\n",
        "from sklearn.linear_model import LogisticRegression\n",
        "from sklearn.preprocessing import StandardScaler, MinMaxScaler\n",
        "from sklearn.model_selection import KFold\n",
        "from sklearn.metrics import log_loss, f1_score\n",
        "from sklearn.pipeline import make_pipeline\n",
        "from sklearn.neighbors import KNeighborsClassifier\n",
        "from xgboost import XGBClassifier\n",
        "from sklearn.neural_network import MLPClassifier"
      ],
      "execution_count": null,
      "outputs": [
        {
          "output_type": "stream",
          "text": [
            "Drive already mounted at /content/drive; to attempt to forcibly remount, call drive.mount(\"/content/drive\", force_remount=True).\n"
          ],
          "name": "stdout"
        }
      ]
    },
    {
      "cell_type": "markdown",
      "metadata": {
        "id": "d1akzksxWZBg"
      },
      "source": [
        "# Importando os dados"
      ]
    },
    {
      "cell_type": "code",
      "metadata": {
        "id": "iwT9p0EwFHtM"
      },
      "source": [
        "df_trein = pd.read_csv('/content/drive/My Drive/Competição FLAI/treino.csv') # dados usados para treinamento\n",
        "df_teste = pd.read_csv('/content/drive/My Drive/Competição FLAI/teste.csv')  # dados usado  para teste"
      ],
      "execution_count": null,
      "outputs": []
    },
    {
      "cell_type": "markdown",
      "metadata": {
        "id": "ywP6nBKPW3pV"
      },
      "source": [
        "# Codificando as váriavies do tipo string"
      ]
    },
    {
      "cell_type": "code",
      "metadata": {
        "id": "buRtOzqTFThV"
      },
      "source": [
        "from sklearn.preprocessing import LabelEncoder"
      ],
      "execution_count": null,
      "outputs": []
    },
    {
      "cell_type": "code",
      "metadata": {
        "id": "qzIiazQaFqp_"
      },
      "source": [
        "def enconder_label(col,df):\n",
        "\n",
        "  for i in range(len(col)):\n",
        "    enc = LabelEncoder()\n",
        "    inteiros = enc.fit_transform(df[col[i]])\n",
        "    df[col[i]] = inteiros\n",
        "\n",
        "  return df"
      ],
      "execution_count": null,
      "outputs": []
    },
    {
      "cell_type": "code",
      "metadata": {
        "id": "Ml9HytfHHJuE"
      },
      "source": [
        "# teste da combinação 1\n",
        "def enconder_label_p1(df):\n",
        "  df['term_deposit'] = df['term_deposit'].map({'no': 0, 'yes': 1})\n",
        "  df['default']   = df['default'].map({'no': 0, 'yes': 1})\n",
        "  df['housing']   = df['housing'].map({'no': 0, 'yes': 1})\n",
        "  df['loan']      = df['loan'].map({'no': 0, 'yes': 1})\n",
        "  df['education'] = df['education'].map({\"primary\": 0, \"secondary\":1, \"tertiary\":2,\"unknown\":3})\n",
        "\n",
        "  df['poutcome'] = df['poutcome'].map({\"unknown\": 0, \"failure\":1, \"other\":2, \"success\":3})\n",
        "  df['contact'] =  df['contact'].map({\"cellular\": 0, \"unknown\":1, \"telephone\":2})\n",
        "\n",
        "  coluna      = ['job','marital','month']\n",
        "\n",
        "  for i in range(len(coluna)):\n",
        "      df = df.join(pd.get_dummies(df[coluna[i]], prefix=coluna[i]))\n",
        "      df = df.drop(columns=coluna[i])\n",
        "\n",
        "  df.drop(columns = 'Unnamed: 0')\n",
        "  return df"
      ],
      "execution_count": null,
      "outputs": []
    },
    {
      "cell_type": "code",
      "metadata": {
        "id": "VmIl_JUgFqyG"
      },
      "source": [
        "# teste da combinação 2 (Melhor resultado)\n",
        "def enconder_label_p2(df):\n",
        "  coluna   = [ 'marital','contact','month']\n",
        "\n",
        "  df['term_deposit'] = df['term_deposit'].map({'no': 0, 'yes': 1})\n",
        "  df['housing']      = df['housing'].map({'no': 0, 'yes': 1})\n",
        "  df['loan']         = df['loan'].map({'no': 0, 'yes': 1})\n",
        "  df['education']    = df['education'].map({\"primary\": 0, \"secondary\":1, \"tertiary\":2,\"unknown\":3})\n",
        "  df['poutcome']     = df['poutcome'].map({\"failure\": 0, \"other\":1, \"success\":2, \"unknown\":3})\n",
        "  df['job']          = df['job'].map({\"admin.\": 0, \"blue-collar\":1, \"entrepreneur\":2, \"housemaid\":3, \"management\":4,\"retired\":5,\"self-employed\":6,\"services\":7,\"student\":8,\"technician\":9,\"unemployed\":10,\"unknown\":11})\n",
        "  \n",
        "  df['default']   = df['default'].map({'no': 0, 'yes': 1})\n",
        "  \n",
        "  df = df.drop(columns = 'Unnamed: 0')\n",
        "\n",
        "  for i in range(len(coluna)):\n",
        "      df = df.join(pd.get_dummies(df[coluna[i]], prefix=coluna[i]))\n",
        "      df = df.drop(columns=coluna[i])\n",
        "  return df"
      ],
      "execution_count": null,
      "outputs": []
    },
    {
      "cell_type": "code",
      "metadata": {
        "id": "vUztJw4NxsBf"
      },
      "source": [
        "df_aux  = df_trein.copy()"
      ],
      "execution_count": null,
      "outputs": []
    },
    {
      "cell_type": "code",
      "metadata": {
        "id": "6WVOEkwAxyt0"
      },
      "source": [
        "df_aux = enconder_label_p2(df_aux) # melhor combinação realizada dos testes que já foram feitos"
      ],
      "execution_count": null,
      "outputs": []
    },
    {
      "cell_type": "markdown",
      "metadata": {
        "id": "m29EnWZtGBZP"
      },
      "source": [
        "#Avaliando os modelos escolhidos  \n",
        "#####Primeiro nível e avaliando demais classificadores escolhidos com o intervalo de corte de 0.4\n",
        "---\n",
        "As probabilidades calculadas das classes serão utilizadas como primeiro nível do Staking. \n",
        " \n",
        "\n"
      ]
    },
    {
      "cell_type": "code",
      "metadata": {
        "id": "pr2QIn6aF_2U"
      },
      "source": [
        "X  = df_aux.drop(columns='term_deposit') # variáveis preditores \n",
        "y = df_aux['term_deposit'] # variáável de target\n",
        "    "
      ],
      "execution_count": null,
      "outputs": []
    },
    {
      "cell_type": "code",
      "metadata": {
        "id": "btlNiA5iG0Ym"
      },
      "source": [
        "acerto_f1      = np.zeros((8,10)) # matrix de f1\n",
        "acerto_log     = np.zeros((8,10)) # matrix de log loss"
      ],
      "execution_count": null,
      "outputs": []
    },
    {
      "cell_type": "code",
      "metadata": {
        "id": "o_cJiT9QF_9o"
      },
      "source": [
        "kf = KFold(n_splits=10, random_state=5, shuffle=True)\n",
        "j = 0\n",
        "\n",
        "second_level = np.zeros((X.shape[0], 8)) # dados de entrada do modelo stacking\n",
        "\n",
        "for tr, ts in kf.split(X,y):\n",
        "    Xtr, Xval = X.iloc[tr], X.iloc[ts]\n",
        "    ytr, yval = y.iloc[tr], y.iloc[ts]\n",
        "    \n",
        "    # floresta aleatoria\n",
        "    rf = RandomForestClassifier(n_estimators=1000, n_jobs=6, random_state=10)\n",
        "    rf.fit(Xtr, ytr)\n",
        "    prf = rf.predict_proba(Xval)[:,1]\n",
        "    prf_ = (prf > 0.4).astype(int)\n",
        "\n",
        "    acerto_f1[0,j] = f1_score(yval, prf_)\n",
        "    acerto_log[0,j] = log_loss(yval, prf)\n",
        "    \n",
        "    # Estratrees\n",
        "    et = ExtraTreesClassifier(n_estimators=1000, n_jobs=6, random_state=10)\n",
        "    et.fit(Xtr, ytr)\n",
        "    pet = et.predict_proba(Xval)[:,1]\n",
        "    pet_ = (pet > 0.4).astype(int)\n",
        "    \n",
        "    acerto_f1[1,j] = f1_score(yval, pet_)\n",
        "    acerto_log[1,j] = log_loss(yval, pet)\n",
        "\n",
        "    # regressão logistica normalizada pelo desvio padrão\n",
        "    lr1 = make_pipeline(StandardScaler(), LogisticRegression())\n",
        "    lr1.fit(Xtr, ytr)\n",
        "    plr1 = lr1.predict_proba(Xval)[:,1]\n",
        "    plr1_ = (plr1 > 0.4).astype(int)\n",
        "\n",
        "    acerto_f1[2,j] = f1_score(yval, plr1_)\n",
        "    acerto_log[2,j] = log_loss(yval, plr1)\n",
        "    \n",
        "    # regressão logistica normalizada pelo minmax\n",
        "    lr2 = make_pipeline(MinMaxScaler(), LogisticRegression())\n",
        "    lr2.fit(Xtr, ytr)\n",
        "    plr2 = lr2.predict_proba(Xval)[:,1]\n",
        "    plr2_ = (plr2 > 0.4).astype(int)\n",
        "\n",
        "    acerto_f1[3,j] = f1_score(yval, plr2_)\n",
        "    acerto_log[3,j] = log_loss(yval, plr2)\n",
        "    \n",
        "    # regressão knn normalizada pelo minmax\n",
        "    knn1 = make_pipeline(MinMaxScaler(), KNeighborsClassifier(n_neighbors=100))\n",
        "    knn1.fit(Xtr, ytr)\n",
        "    klr1 = knn1.predict_proba(Xval)[:,1]\n",
        "    klr1_ = (klr1 > 0.4).astype(int)\n",
        "\n",
        "    acerto_f1[4,j] = f1_score(yval, klr1_)\n",
        "    acerto_log[4,j] = log_loss(yval, klr1)\n",
        "\n",
        "    # regressão knn normalizada pelo desvio padrão\n",
        "    knn2 = make_pipeline(StandardScaler(), KNeighborsClassifier(n_neighbors=100))\n",
        "    knn2.fit(Xtr, ytr)\n",
        "    klr2 = knn2.predict_proba(Xval)[:,1]\n",
        "    klr2_ = (klr2 > 0.4).astype(int)\n",
        "\n",
        "    acerto_f1[5,j] = f1_score(yval, klr2_)\n",
        "    acerto_log[5,j] = log_loss(yval, klr2)\n",
        "\n",
        "    # XGB \n",
        "    XGB = XGBClassifier(n_estimators=1000, n_jobs=6, random_state=10)\n",
        "    XGB.fit(Xtr, ytr)\n",
        "    XGBlr2 = XGB.predict_proba(Xval)[:,1]\n",
        "    XGB_ = (XGBlr2 > 0.4).astype(int)\n",
        "\n",
        "    acerto_f1[6,j] = f1_score(yval, XGB_)\n",
        "    acerto_log[6,j] = log_loss(yval, XGBlr2)\n",
        "\n",
        "    # MLP classificador\n",
        "    clf = MLPClassifier(hidden_layer_sizes=[30,30], solver='adam', alpha=1e-5, random_state=1, max_iter=1000)\n",
        "    clf2 = make_pipeline(StandardScaler(), clf)\n",
        "\n",
        "    clf2.fit(Xtr, ytr)\n",
        "    clfp = clf2.predict_proba(Xval)[:,1]\n",
        "    clfp_ = (clfp > 0.4).astype(int)\n",
        "\n",
        "    acerto_f1[7,j] = f1_score(yval, clfp_)\n",
        "    acerto_log[7,j] = log_loss(yval, clfp)\n",
        "\n",
        "    second_level[ts, 0] = prf\n",
        "    second_level[ts, 1] = pet\n",
        "    second_level[ts, 2] = plr1\n",
        "    second_level[ts, 3] = plr2\n",
        "    second_level[ts, 4] = klr1\n",
        "    second_level[ts, 5] = klr2\n",
        "    second_level[ts, 6] = XGBlr2\n",
        "    second_level[ts, 7] = clfp\n",
        "\n",
        "\n",
        "    j = j + 1"
      ],
      "execution_count": null,
      "outputs": []
    },
    {
      "cell_type": "code",
      "metadata": {
        "colab": {
          "base_uri": "https://localhost:8080/",
          "height": 452
        },
        "id": "07gJ_6YQOYKh",
        "outputId": "aa32e4fb-4b61-4926-ed11-3d6f6dcab715"
      },
      "source": [
        "plt.rc('xtick', labelsize=20) \n",
        "plt.rc('ytick', labelsize=20)\n",
        "\n",
        "plt.figure(figsize= (24,8))\n",
        "plt.subplot(1,2,1)\n",
        "plt.title('f1-score',fontsize = 24)\n",
        "langs = ['Fl', 'Et', 'LR_s', 'LR_m', 'Knn_s','Knn_m','XGB','MLP']\n",
        "plt.bar(langs,np.mean(acerto_f1,axis =  1),yerr = np.std(acerto_f1,axis =  1)/np.sqrt(10),color = 'black',alpha =0.5)\n",
        "plt.ylabel('f1',fontsize = 22)\n",
        "plt.ylim(0.64,.75)\n",
        "plt.grid(linestyle='--', linewidth=0.5)\n",
        "\n",
        "\n",
        "plt.subplot(1,2,2)\n",
        "plt.title('Log-loss',fontsize = 24)\n",
        "langs = ['Fl', 'Et', 'LR_s', 'LR_m', 'Knn_s','Knn_m','XGB','MLP']\n",
        "plt.bar(langs,np.mean(acerto_log,axis =  1),yerr = np.std(acerto_log,axis =  1)/np.sqrt(10), color = 'black',alpha =0.5)\n",
        "plt.ylabel('Log Loss',fontsize = 22)\n",
        "plt.ylim(0.5,.9)\n",
        "plt.grid(linestyle='--', linewidth=0.5)\n",
        "\n",
        "\n",
        "plt.show()\n",
        "\n",
        "\n"
      ],
      "execution_count": null,
      "outputs": [
        {
          "output_type": "display_data",
          "data": {
            "image/png": "[encoded data removed]",
            "text/plain": [
              "<Figure size 1728x576 with 2 Axes>"
            ]
          },
          "metadata": {
            "tags": [],
            "needs_background": "light"
          }
        }
      ]
    },
    {
      "cell_type": "markdown",
      "metadata": {
        "id": "dRixA1Drpi_N"
      },
      "source": [
        "Legenda dos classificadores\n",
        " \n",
        "---\n",
        " \n",
        "> fl -> Floresta aleatória\n",
        " \n",
        "> Et -> ExtraTrees\n",
        " \n",
        "> LR_s -> Regressão logística (Dados normalizados pelo MinMax)\n",
        " \n",
        "> LR_s -> Regressão logística (Dados normalizados pelo desvio padrão)\n",
        " \n",
        "> Knn_s -> KNN (Dados normalizados pelo MinMax)\n",
        " \n",
        "> Knn_s -> KNN (Dados normalizados pelo desvio padrão)\n",
        " \n",
        "> XGB -> XGBoost\n",
        " \n",
        "> Multilayer perceptron -> MLP (Dados normalizados pelo desvio padrão)\n"
      ]
    },
    {
      "cell_type": "markdown",
      "metadata": {
        "id": "v4vg5ifM_XT0"
      },
      "source": [
        "# Floresta aleatória modelo 2\n"
      ]
    },
    {
      "cell_type": "code",
      "metadata": {
        "id": "zPHVln4cIZIu"
      },
      "source": [
        "c = np.arange(0.30,0.5,0.01)"
      ],
      "execution_count": null,
      "outputs": []
    },
    {
      "cell_type": "code",
      "metadata": {
        "id": "BnIuM-hLhM7Z"
      },
      "source": [
        "acerto_f_A = np.zeros((len(c),10)) # matrix intervalo de cortes \n",
        "acerto_l_A = np.zeros(10) # matrix log-loss\n",
        "\n",
        "\n",
        "kf = KFold(n_splits=10, random_state=5, shuffle=True)\n",
        "for i in range(len(c)):\n",
        "  j= 0\n",
        "  for tr, ts in kf.split(X,y):\n",
        "    Xtr, Xval = X.iloc[tr], X.iloc[ts]\n",
        "    ytr, yval = y.iloc[tr], y.iloc[ts]\n",
        "    \n",
        "    # floresta aleatoria\n",
        "    rf = RandomForestClassifier(n_estimators=1000, n_jobs=6, random_state=10)\n",
        "    rf.fit(Xtr, ytr)\n",
        "    prf = rf.predict_proba(Xval)[:,1]\n",
        "    prf_ = (prf > c[i]).astype(int)\n",
        "\n",
        "    acerto_f_A[i,j] = f1_score(yval, prf_)\n",
        "\n",
        "    acerto_l_A[j] = log_loss(yval, prf)\n",
        "\n",
        "    j= j + 1"
      ],
      "execution_count": null,
      "outputs": []
    },
    {
      "cell_type": "code",
      "metadata": {
        "colab": {
          "base_uri": "https://localhost:8080/"
        },
        "id": "HuCG6R__hRwN",
        "outputId": "166cfa09-ce4e-4a67-9f54-7ad875fdc2cc"
      },
      "source": [
        "for i in range(len(c)):\n",
        "  print('Corte',str(c[i]))\n",
        "  print('f1:',np.format_float_positional(np.mean(acerto_f_A[i]),5),'Erro:',np.format_float_positional(np.std(acerto_f_A[i])/np.sqrt(10),5),'Desvio padrão:',np.format_float_positional(np.std(acerto_f_A[i]),5))\n",
        "  print('\\n')"
      ],
      "execution_count": null,
      "outputs": [
        {
          "output_type": "stream",
          "text": [
            "Corte 0.3\n",
            "f1: 0.69325 Erro: 0.00394 Desvio padrão: 0.01246\n",
            "\n",
            "\n",
            "Corte 0.31\n",
            "f1: 0.69484 Erro: 0.00374 Desvio padrão: 0.01181\n",
            "\n",
            "\n",
            "Corte 0.32\n",
            "f1: 0.69573 Erro: 0.00359 Desvio padrão: 0.01136\n",
            "\n",
            "\n",
            "Corte 0.33\n",
            "f1: 0.69814 Erro: 0.00416 Desvio padrão: 0.01316\n",
            "\n",
            "\n",
            "Corte 0.34\n",
            "f1: 0.69995 Erro: 0.00400 Desvio padrão: 0.01266\n",
            "\n",
            "\n",
            "Corte 0.35000000000000003\n",
            "f1: 0.70138 Erro: 0.00406 Desvio padrão: 0.01283\n",
            "\n",
            "\n",
            "Corte 0.36000000000000004\n",
            "f1: 0.70309 Erro: 0.00386 Desvio padrão: 0.01221\n",
            "\n",
            "\n",
            "Corte 0.37000000000000005\n",
            "f1: 0.70452 Erro: 0.00393 Desvio padrão: 0.01241\n",
            "\n",
            "\n",
            "Corte 0.38000000000000006\n",
            "f1: 0.70486 Erro: 0.00420 Desvio padrão: 0.01329\n",
            "\n",
            "\n",
            "Corte 0.39000000000000007\n",
            "f1: 0.70603 Erro: 0.00399 Desvio padrão: 0.01262\n",
            "\n",
            "\n",
            "Corte 0.4000000000000001\n",
            "f1: 0.70380 Erro: 0.00387 Desvio padrão: 0.01223\n",
            "\n",
            "\n",
            "Corte 0.4100000000000001\n",
            "f1: 0.70315 Erro: 0.00351 Desvio padrão: 0.0111\n",
            "\n",
            "\n",
            "Corte 0.4200000000000001\n",
            "f1: 0.70315 Erro: 0.00356 Desvio padrão: 0.01126\n",
            "\n",
            "\n",
            "Corte 0.4300000000000001\n",
            "f1: 0.70191 Erro: 0.00357 Desvio padrão: 0.01129\n",
            "\n",
            "\n",
            "Corte 0.4400000000000001\n",
            "f1: 0.70218 Erro: 0.00407 Desvio padrão: 0.01286\n",
            "\n",
            "\n",
            "Corte 0.4500000000000001\n",
            "f1: 0.69846 Erro: 0.00449 Desvio padrão: 0.01419\n",
            "\n",
            "\n",
            "Corte 0.46000000000000013\n",
            "f1: 0.69888 Erro: 0.00479 Desvio padrão: 0.01514\n",
            "\n",
            "\n",
            "Corte 0.47000000000000014\n",
            "f1: 0.69425 Erro: 0.00514 Desvio padrão: 0.01627\n",
            "\n",
            "\n",
            "Corte 0.48000000000000015\n",
            "f1: 0.69069 Erro: 0.00517 Desvio padrão: 0.01635\n",
            "\n",
            "\n",
            "Corte 0.49000000000000016\n",
            "f1: 0.68731 Erro: 0.00549 Desvio padrão: 0.01735\n",
            "\n",
            "\n"
          ],
          "name": "stdout"
        }
      ]
    },
    {
      "cell_type": "code",
      "metadata": {
        "colab": {
          "base_uri": "https://localhost:8080/"
        },
        "id": "FUZeKTkbmkpN",
        "outputId": "32fd5e1b-0cdd-41b8-c8f1-9c2c7b7e8cae"
      },
      "source": [
        "print('f1:',np.format_float_positional(np.mean(acerto_l_A),5),'Erro:',np.format_float_positional(np.std(acerto_l_A)/np.sqrt(10),5),'Desvio padrão:',np.format_float_positional(np.std(acerto_l_A),5))"
      ],
      "execution_count": null,
      "outputs": [
        {
          "output_type": "stream",
          "text": [
            "f1: 0.58312 Erro: 0.00433 Desvio padrão: 0.01370\n"
          ],
          "name": "stdout"
        }
      ]
    },
    {
      "cell_type": "code",
      "metadata": {
        "id": "XCHB9opi9E_J"
      },
      "source": [
        "f1 = []\n",
        "f1s = []\n",
        "\n",
        "loss = []\n",
        "loss_s = []\n",
        "for i in range(8):\n",
        "  f1.append(np.mean(acerto_f1,axis =  1)[i])\n",
        "  f1s.append(np.std(acerto_f1,axis =  1)[i])\n",
        "\n",
        "  loss.append(np.mean(acerto_log,axis =  1)[i])\n",
        "  loss_s.append(np.std(acerto_log,axis =  1)[i])\n"
      ],
      "execution_count": null,
      "outputs": []
    },
    {
      "cell_type": "code",
      "metadata": {
        "id": "OHKtRaj8-RW5"
      },
      "source": [
        "a = np.mean(acerto_f_A,axis = 1)\n",
        "b = np.std(acerto_f_A,axis = 1)\n",
        "\n",
        "f1.append(np.max(a))\n",
        "f1s.append(np.max(b[np.argmax(a)]))\n",
        "\n",
        "loss.append(np.mean(acerto_l_A))\n",
        "loss_s.append(np.std(acerto_l_A))"
      ],
      "execution_count": null,
      "outputs": []
    },
    {
      "cell_type": "code",
      "metadata": {
        "colab": {
          "base_uri": "https://localhost:8080/",
          "height": 453
        },
        "id": "3-TC44gv-RY4",
        "outputId": "026799f7-911a-401b-faa9-479048389dd6"
      },
      "source": [
        "langs = ['Fl', 'Et', 'LR_s', 'LR_m', 'Knn_s','Knn_m','XGB','MLP','Fl_max']\n",
        "plt.rc('xtick', labelsize=20) \n",
        "plt.rc('ytick', labelsize=20)\n",
        "\n",
        "plt.figure(figsize= (24,8))\n",
        "plt.subplot(1,2,1)\n",
        "plt.title('f1-score',fontsize = 24)\n",
        "plt.bar(langs,np.array(f1),yerr = np.array(f1s)/np.sqrt(10),color = 'black',alpha =0.5)\n",
        "plt.ylabel('f1',fontsize = 22)\n",
        "plt.ylim(0.63,.75)\n",
        "plt.grid(linestyle='--', linewidth=0.5)\n",
        "\n",
        "\n",
        "plt.subplot(1,2,2)\n",
        "plt.title('Log-loss',fontsize = 24)\n",
        "plt.bar(langs,np.array(loss),yerr = np.array(loss_s)/np.sqrt(10), color = 'black',alpha =0.5)\n",
        "plt.ylabel('Log Loss',fontsize = 22)\n",
        "plt.ylim(0.5,.85)\n",
        "plt.grid(linestyle='--', linewidth=0.5)\n",
        "\n",
        "\n",
        "plt.show()\n",
        "\n",
        "\n",
        "\n"
      ],
      "execution_count": null,
      "outputs": [
        {
          "output_type": "display_data",
          "data": {
            "image/png": "[encoded data removed]",
            "text/plain": [
              "<Figure size 1728x576 with 2 Axes>"
            ]
          },
          "metadata": {
            "tags": [],
            "needs_background": "light"
          }
        }
      ]
    },
    {
      "cell_type": "markdown",
      "metadata": {
        "id": "yFg4dyBDlFWK"
      },
      "source": [
        "# Staking "
      ]
    },
    {
      "cell_type": "code",
      "metadata": {
        "id": "hvkXg0Qb0BWG"
      },
      "source": [
        "df = pd.DataFrame(second_level,columns=['Fl', 'Et', 'LR_s', 'LR_m', 'Knn_s','Knn_m','XGB','MLP'])"
      ],
      "execution_count": null,
      "outputs": []
    },
    {
      "cell_type": "markdown",
      "metadata": {
        "id": "OojXj9ph3r1G"
      },
      "source": [
        "### Olhando a correlação do primeiro nível\n"
      ]
    },
    {
      "cell_type": "code",
      "metadata": {
        "colab": {
          "base_uri": "https://localhost:8080/",
          "height": 211
        },
        "id": "lri7oJFH0S5S",
        "outputId": "f3d36153-cf6f-4351-fd39-73cf589d6899"
      },
      "source": [
        "corr = df.corr()\n",
        "corr.style.background_gradient(cmap='coolwarm')"
      ],
      "execution_count": null,
      "outputs": [
        {
          "output_type": "execute_result",
          "data": {
            "text/html": [
              "<style  type=\"text/css\" >\n",
              "#T_8c199db4_b2db_11eb_b27d_0242ac1c0002row0_col0,#T_8c199db4_b2db_11eb_b27d_0242ac1c0002row1_col1,#T_8c199db4_b2db_11eb_b27d_0242ac1c0002row2_col2,#T_8c199db4_b2db_11eb_b27d_0242ac1c0002row3_col3,#T_8c199db4_b2db_11eb_b27d_0242ac1c0002row4_col4,#T_8c199db4_b2db_11eb_b27d_0242ac1c0002row5_col5,#T_8c199db4_b2db_11eb_b27d_0242ac1c0002row6_col6,#T_8c199db4_b2db_11eb_b27d_0242ac1c0002row7_col7{\n",
              "            background-color:  #b40426;\n",
              "            color:  #f1f1f1;\n",
              "        }#T_8c199db4_b2db_11eb_b27d_0242ac1c0002row0_col1{\n",
              "            background-color:  #f18f71;\n",
              "            color:  #000000;\n",
              "        }#T_8c199db4_b2db_11eb_b27d_0242ac1c0002row0_col2{\n",
              "            background-color:  #bed2f6;\n",
              "            color:  #000000;\n",
              "        }#T_8c199db4_b2db_11eb_b27d_0242ac1c0002row0_col3{\n",
              "            background-color:  #bfd3f6;\n",
              "            color:  #000000;\n",
              "        }#T_8c199db4_b2db_11eb_b27d_0242ac1c0002row0_col4{\n",
              "            background-color:  #d2dbe8;\n",
              "            color:  #000000;\n",
              "        }#T_8c199db4_b2db_11eb_b27d_0242ac1c0002row0_col5{\n",
              "            background-color:  #cbd8ee;\n",
              "            color:  #000000;\n",
              "        }#T_8c199db4_b2db_11eb_b27d_0242ac1c0002row0_col6{\n",
              "            background-color:  #e5d8d1;\n",
              "            color:  #000000;\n",
              "        }#T_8c199db4_b2db_11eb_b27d_0242ac1c0002row0_col7{\n",
              "            background-color:  #b7cff9;\n",
              "            color:  #000000;\n",
              "        }#T_8c199db4_b2db_11eb_b27d_0242ac1c0002row1_col0,#T_8c199db4_b2db_11eb_b27d_0242ac1c0002row3_col5{\n",
              "            background-color:  #f59d7e;\n",
              "            color:  #000000;\n",
              "        }#T_8c199db4_b2db_11eb_b27d_0242ac1c0002row1_col2{\n",
              "            background-color:  #93b5fe;\n",
              "            color:  #000000;\n",
              "        }#T_8c199db4_b2db_11eb_b27d_0242ac1c0002row1_col3{\n",
              "            background-color:  #96b7ff;\n",
              "            color:  #000000;\n",
              "        }#T_8c199db4_b2db_11eb_b27d_0242ac1c0002row1_col4{\n",
              "            background-color:  #a7c5fe;\n",
              "            color:  #000000;\n",
              "        }#T_8c199db4_b2db_11eb_b27d_0242ac1c0002row1_col5{\n",
              "            background-color:  #a5c3fe;\n",
              "            color:  #000000;\n",
              "        }#T_8c199db4_b2db_11eb_b27d_0242ac1c0002row1_col6{\n",
              "            background-color:  #97b8ff;\n",
              "            color:  #000000;\n",
              "        }#T_8c199db4_b2db_11eb_b27d_0242ac1c0002row1_col7{\n",
              "            background-color:  #c1d4f4;\n",
              "            color:  #000000;\n",
              "        }#T_8c199db4_b2db_11eb_b27d_0242ac1c0002row2_col0{\n",
              "            background-color:  #465ecf;\n",
              "            color:  #f1f1f1;\n",
              "        }#T_8c199db4_b2db_11eb_b27d_0242ac1c0002row2_col1,#T_8c199db4_b2db_11eb_b27d_0242ac1c0002row3_col1,#T_8c199db4_b2db_11eb_b27d_0242ac1c0002row3_col7,#T_8c199db4_b2db_11eb_b27d_0242ac1c0002row7_col0,#T_8c199db4_b2db_11eb_b27d_0242ac1c0002row7_col2,#T_8c199db4_b2db_11eb_b27d_0242ac1c0002row7_col3,#T_8c199db4_b2db_11eb_b27d_0242ac1c0002row7_col4,#T_8c199db4_b2db_11eb_b27d_0242ac1c0002row7_col5,#T_8c199db4_b2db_11eb_b27d_0242ac1c0002row7_col6{\n",
              "            background-color:  #3b4cc0;\n",
              "            color:  #f1f1f1;\n",
              "        }#T_8c199db4_b2db_11eb_b27d_0242ac1c0002row2_col3,#T_8c199db4_b2db_11eb_b27d_0242ac1c0002row3_col2{\n",
              "            background-color:  #b70d28;\n",
              "            color:  #f1f1f1;\n",
              "        }#T_8c199db4_b2db_11eb_b27d_0242ac1c0002row2_col4{\n",
              "            background-color:  #f1cdba;\n",
              "            color:  #000000;\n",
              "        }#T_8c199db4_b2db_11eb_b27d_0242ac1c0002row2_col5{\n",
              "            background-color:  #f6a283;\n",
              "            color:  #000000;\n",
              "        }#T_8c199db4_b2db_11eb_b27d_0242ac1c0002row2_col6{\n",
              "            background-color:  #84a7fc;\n",
              "            color:  #000000;\n",
              "        }#T_8c199db4_b2db_11eb_b27d_0242ac1c0002row2_col7{\n",
              "            background-color:  #3d50c3;\n",
              "            color:  #f1f1f1;\n",
              "        }#T_8c199db4_b2db_11eb_b27d_0242ac1c0002row3_col0{\n",
              "            background-color:  #455cce;\n",
              "            color:  #f1f1f1;\n",
              "        }#T_8c199db4_b2db_11eb_b27d_0242ac1c0002row3_col4{\n",
              "            background-color:  #f5c4ac;\n",
              "            color:  #000000;\n",
              "        }#T_8c199db4_b2db_11eb_b27d_0242ac1c0002row3_col6{\n",
              "            background-color:  #81a4fb;\n",
              "            color:  #000000;\n",
              "        }#T_8c199db4_b2db_11eb_b27d_0242ac1c0002row4_col0{\n",
              "            background-color:  #80a3fa;\n",
              "            color:  #000000;\n",
              "        }#T_8c199db4_b2db_11eb_b27d_0242ac1c0002row4_col1{\n",
              "            background-color:  #6b8df0;\n",
              "            color:  #000000;\n",
              "        }#T_8c199db4_b2db_11eb_b27d_0242ac1c0002row4_col2{\n",
              "            background-color:  #f4c5ad;\n",
              "            color:  #000000;\n",
              "        }#T_8c199db4_b2db_11eb_b27d_0242ac1c0002row4_col3{\n",
              "            background-color:  #f7ba9f;\n",
              "            color:  #000000;\n",
              "        }#T_8c199db4_b2db_11eb_b27d_0242ac1c0002row4_col5{\n",
              "            background-color:  #f59c7d;\n",
              "            color:  #000000;\n",
              "        }#T_8c199db4_b2db_11eb_b27d_0242ac1c0002row4_col6,#T_8c199db4_b2db_11eb_b27d_0242ac1c0002row5_col1{\n",
              "            background-color:  #7ea1fa;\n",
              "            color:  #000000;\n",
              "        }#T_8c199db4_b2db_11eb_b27d_0242ac1c0002row4_col7{\n",
              "            background-color:  #5470de;\n",
              "            color:  #000000;\n",
              "        }#T_8c199db4_b2db_11eb_b27d_0242ac1c0002row5_col0{\n",
              "            background-color:  #8badfd;\n",
              "            color:  #000000;\n",
              "        }#T_8c199db4_b2db_11eb_b27d_0242ac1c0002row5_col2{\n",
              "            background-color:  #f29274;\n",
              "            color:  #000000;\n",
              "        }#T_8c199db4_b2db_11eb_b27d_0242ac1c0002row5_col3{\n",
              "            background-color:  #f08b6e;\n",
              "            color:  #000000;\n",
              "        }#T_8c199db4_b2db_11eb_b27d_0242ac1c0002row5_col4{\n",
              "            background-color:  #f39475;\n",
              "            color:  #000000;\n",
              "        }#T_8c199db4_b2db_11eb_b27d_0242ac1c0002row5_col6{\n",
              "            background-color:  #a3c2fe;\n",
              "            color:  #000000;\n",
              "        }#T_8c199db4_b2db_11eb_b27d_0242ac1c0002row5_col7{\n",
              "            background-color:  #6c8ff1;\n",
              "            color:  #000000;\n",
              "        }#T_8c199db4_b2db_11eb_b27d_0242ac1c0002row6_col0{\n",
              "            background-color:  #c0d4f5;\n",
              "            color:  #000000;\n",
              "        }#T_8c199db4_b2db_11eb_b27d_0242ac1c0002row6_col1{\n",
              "            background-color:  #7a9df8;\n",
              "            color:  #000000;\n",
              "        }#T_8c199db4_b2db_11eb_b27d_0242ac1c0002row6_col2,#T_8c199db4_b2db_11eb_b27d_0242ac1c0002row6_col3{\n",
              "            background-color:  #b6cefa;\n",
              "            color:  #000000;\n",
              "        }#T_8c199db4_b2db_11eb_b27d_0242ac1c0002row6_col4{\n",
              "            background-color:  #9ebeff;\n",
              "            color:  #000000;\n",
              "        }#T_8c199db4_b2db_11eb_b27d_0242ac1c0002row6_col5{\n",
              "            background-color:  #adc9fd;\n",
              "            color:  #000000;\n",
              "        }#T_8c199db4_b2db_11eb_b27d_0242ac1c0002row6_col7{\n",
              "            background-color:  #799cf8;\n",
              "            color:  #000000;\n",
              "        }#T_8c199db4_b2db_11eb_b27d_0242ac1c0002row7_col1{\n",
              "            background-color:  #7396f5;\n",
              "            color:  #000000;\n",
              "        }</style><table id=\"T_8c199db4_b2db_11eb_b27d_0242ac1c0002\" ><thead>    <tr>        <th class=\"blank level0\" ></th>        <th class=\"col_heading level0 col0\" >Fl</th>        <th class=\"col_heading level0 col1\" >Et</th>        <th class=\"col_heading level0 col2\" >LR_s</th>        <th class=\"col_heading level0 col3\" >LR_m</th>        <th class=\"col_heading level0 col4\" >Knn_s</th>        <th class=\"col_heading level0 col5\" >Knn_m</th>        <th class=\"col_heading level0 col6\" >XGB</th>        <th class=\"col_heading level0 col7\" >MLP</th>    </tr></thead><tbody>\n",
              "                <tr>\n",
              "                        <th id=\"T_8c199db4_b2db_11eb_b27d_0242ac1c0002level0_row0\" class=\"row_heading level0 row0\" >Fl</th>\n",
              "                        <td id=\"T_8c199db4_b2db_11eb_b27d_0242ac1c0002row0_col0\" class=\"data row0 col0\" >1.000000</td>\n",
              "                        <td id=\"T_8c199db4_b2db_11eb_b27d_0242ac1c0002row0_col1\" class=\"data row0 col1\" >0.930240</td>\n",
              "                        <td id=\"T_8c199db4_b2db_11eb_b27d_0242ac1c0002row0_col2\" class=\"data row0 col2\" >0.741208</td>\n",
              "                        <td id=\"T_8c199db4_b2db_11eb_b27d_0242ac1c0002row0_col3\" class=\"data row0 col3\" >0.740190</td>\n",
              "                        <td id=\"T_8c199db4_b2db_11eb_b27d_0242ac1c0002row0_col4\" class=\"data row0 col4\" >0.787218</td>\n",
              "                        <td id=\"T_8c199db4_b2db_11eb_b27d_0242ac1c0002row0_col5\" class=\"data row0 col5\" >0.796086</td>\n",
              "                        <td id=\"T_8c199db4_b2db_11eb_b27d_0242ac1c0002row0_col6\" class=\"data row0 col6\" >0.837798</td>\n",
              "                        <td id=\"T_8c199db4_b2db_11eb_b27d_0242ac1c0002row0_col7\" class=\"data row0 col7\" >0.729858</td>\n",
              "            </tr>\n",
              "            <tr>\n",
              "                        <th id=\"T_8c199db4_b2db_11eb_b27d_0242ac1c0002level0_row1\" class=\"row_heading level0 row1\" >Et</th>\n",
              "                        <td id=\"T_8c199db4_b2db_11eb_b27d_0242ac1c0002row1_col0\" class=\"data row1 col0\" >0.930240</td>\n",
              "                        <td id=\"T_8c199db4_b2db_11eb_b27d_0242ac1c0002row1_col1\" class=\"data row1 col1\" >1.000000</td>\n",
              "                        <td id=\"T_8c199db4_b2db_11eb_b27d_0242ac1c0002row1_col2\" class=\"data row1 col2\" >0.687897</td>\n",
              "                        <td id=\"T_8c199db4_b2db_11eb_b27d_0242ac1c0002row1_col3\" class=\"data row1 col3\" >0.688674</td>\n",
              "                        <td id=\"T_8c199db4_b2db_11eb_b27d_0242ac1c0002row1_col4\" class=\"data row1 col4\" >0.735649</td>\n",
              "                        <td id=\"T_8c199db4_b2db_11eb_b27d_0242ac1c0002row1_col5\" class=\"data row1 col5\" >0.753445</td>\n",
              "                        <td id=\"T_8c199db4_b2db_11eb_b27d_0242ac1c0002row1_col6\" class=\"data row1 col6\" >0.749116</td>\n",
              "                        <td id=\"T_8c199db4_b2db_11eb_b27d_0242ac1c0002row1_col7\" class=\"data row1 col7\" >0.743463</td>\n",
              "            </tr>\n",
              "            <tr>\n",
              "                        <th id=\"T_8c199db4_b2db_11eb_b27d_0242ac1c0002level0_row2\" class=\"row_heading level0 row2\" >LR_s</th>\n",
              "                        <td id=\"T_8c199db4_b2db_11eb_b27d_0242ac1c0002row2_col0\" class=\"data row2 col0\" >0.741208</td>\n",
              "                        <td id=\"T_8c199db4_b2db_11eb_b27d_0242ac1c0002row2_col1\" class=\"data row2 col1\" >0.687897</td>\n",
              "                        <td id=\"T_8c199db4_b2db_11eb_b27d_0242ac1c0002row2_col2\" class=\"data row2 col2\" >1.000000</td>\n",
              "                        <td id=\"T_8c199db4_b2db_11eb_b27d_0242ac1c0002row2_col3\" class=\"data row2 col3\" >0.996217</td>\n",
              "                        <td id=\"T_8c199db4_b2db_11eb_b27d_0242ac1c0002row2_col4\" class=\"data row2 col4\" >0.840031</td>\n",
              "                        <td id=\"T_8c199db4_b2db_11eb_b27d_0242ac1c0002row2_col5\" class=\"data row2 col5\" >0.901573</td>\n",
              "                        <td id=\"T_8c199db4_b2db_11eb_b27d_0242ac1c0002row2_col6\" class=\"data row2 col6\" >0.731107</td>\n",
              "                        <td id=\"T_8c199db4_b2db_11eb_b27d_0242ac1c0002row2_col7\" class=\"data row2 col7\" >0.573846</td>\n",
              "            </tr>\n",
              "            <tr>\n",
              "                        <th id=\"T_8c199db4_b2db_11eb_b27d_0242ac1c0002level0_row3\" class=\"row_heading level0 row3\" >LR_m</th>\n",
              "                        <td id=\"T_8c199db4_b2db_11eb_b27d_0242ac1c0002row3_col0\" class=\"data row3 col0\" >0.740190</td>\n",
              "                        <td id=\"T_8c199db4_b2db_11eb_b27d_0242ac1c0002row3_col1\" class=\"data row3 col1\" >0.688674</td>\n",
              "                        <td id=\"T_8c199db4_b2db_11eb_b27d_0242ac1c0002row3_col2\" class=\"data row3 col2\" >0.996217</td>\n",
              "                        <td id=\"T_8c199db4_b2db_11eb_b27d_0242ac1c0002row3_col3\" class=\"data row3 col3\" >1.000000</td>\n",
              "                        <td id=\"T_8c199db4_b2db_11eb_b27d_0242ac1c0002row3_col4\" class=\"data row3 col4\" >0.853002</td>\n",
              "                        <td id=\"T_8c199db4_b2db_11eb_b27d_0242ac1c0002row3_col5\" class=\"data row3 col5\" >0.906574</td>\n",
              "                        <td id=\"T_8c199db4_b2db_11eb_b27d_0242ac1c0002row3_col6\" class=\"data row3 col6\" >0.728129</td>\n",
              "                        <td id=\"T_8c199db4_b2db_11eb_b27d_0242ac1c0002row3_col7\" class=\"data row3 col7\" >0.570325</td>\n",
              "            </tr>\n",
              "            <tr>\n",
              "                        <th id=\"T_8c199db4_b2db_11eb_b27d_0242ac1c0002level0_row4\" class=\"row_heading level0 row4\" >Knn_s</th>\n",
              "                        <td id=\"T_8c199db4_b2db_11eb_b27d_0242ac1c0002row4_col0\" class=\"data row4 col0\" >0.787218</td>\n",
              "                        <td id=\"T_8c199db4_b2db_11eb_b27d_0242ac1c0002row4_col1\" class=\"data row4 col1\" >0.735649</td>\n",
              "                        <td id=\"T_8c199db4_b2db_11eb_b27d_0242ac1c0002row4_col2\" class=\"data row4 col2\" >0.840031</td>\n",
              "                        <td id=\"T_8c199db4_b2db_11eb_b27d_0242ac1c0002row4_col3\" class=\"data row4 col3\" >0.853002</td>\n",
              "                        <td id=\"T_8c199db4_b2db_11eb_b27d_0242ac1c0002row4_col4\" class=\"data row4 col4\" >1.000000</td>\n",
              "                        <td id=\"T_8c199db4_b2db_11eb_b27d_0242ac1c0002row4_col5\" class=\"data row4 col5\" >0.906705</td>\n",
              "                        <td id=\"T_8c199db4_b2db_11eb_b27d_0242ac1c0002row4_col6\" class=\"data row4 col6\" >0.724840</td>\n",
              "                        <td id=\"T_8c199db4_b2db_11eb_b27d_0242ac1c0002row4_col7\" class=\"data row4 col7\" >0.607219</td>\n",
              "            </tr>\n",
              "            <tr>\n",
              "                        <th id=\"T_8c199db4_b2db_11eb_b27d_0242ac1c0002level0_row5\" class=\"row_heading level0 row5\" >Knn_m</th>\n",
              "                        <td id=\"T_8c199db4_b2db_11eb_b27d_0242ac1c0002row5_col0\" class=\"data row5 col0\" >0.796086</td>\n",
              "                        <td id=\"T_8c199db4_b2db_11eb_b27d_0242ac1c0002row5_col1\" class=\"data row5 col1\" >0.753445</td>\n",
              "                        <td id=\"T_8c199db4_b2db_11eb_b27d_0242ac1c0002row5_col2\" class=\"data row5 col2\" >0.901573</td>\n",
              "                        <td id=\"T_8c199db4_b2db_11eb_b27d_0242ac1c0002row5_col3\" class=\"data row5 col3\" >0.906574</td>\n",
              "                        <td id=\"T_8c199db4_b2db_11eb_b27d_0242ac1c0002row5_col4\" class=\"data row5 col4\" >0.906705</td>\n",
              "                        <td id=\"T_8c199db4_b2db_11eb_b27d_0242ac1c0002row5_col5\" class=\"data row5 col5\" >1.000000</td>\n",
              "                        <td id=\"T_8c199db4_b2db_11eb_b27d_0242ac1c0002row5_col6\" class=\"data row5 col6\" >0.762104</td>\n",
              "                        <td id=\"T_8c199db4_b2db_11eb_b27d_0242ac1c0002row5_col7\" class=\"data row5 col7\" >0.637762</td>\n",
              "            </tr>\n",
              "            <tr>\n",
              "                        <th id=\"T_8c199db4_b2db_11eb_b27d_0242ac1c0002level0_row6\" class=\"row_heading level0 row6\" >XGB</th>\n",
              "                        <td id=\"T_8c199db4_b2db_11eb_b27d_0242ac1c0002row6_col0\" class=\"data row6 col0\" >0.837798</td>\n",
              "                        <td id=\"T_8c199db4_b2db_11eb_b27d_0242ac1c0002row6_col1\" class=\"data row6 col1\" >0.749116</td>\n",
              "                        <td id=\"T_8c199db4_b2db_11eb_b27d_0242ac1c0002row6_col2\" class=\"data row6 col2\" >0.731107</td>\n",
              "                        <td id=\"T_8c199db4_b2db_11eb_b27d_0242ac1c0002row6_col3\" class=\"data row6 col3\" >0.728129</td>\n",
              "                        <td id=\"T_8c199db4_b2db_11eb_b27d_0242ac1c0002row6_col4\" class=\"data row6 col4\" >0.724840</td>\n",
              "                        <td id=\"T_8c199db4_b2db_11eb_b27d_0242ac1c0002row6_col5\" class=\"data row6 col5\" >0.762104</td>\n",
              "                        <td id=\"T_8c199db4_b2db_11eb_b27d_0242ac1c0002row6_col6\" class=\"data row6 col6\" >1.000000</td>\n",
              "                        <td id=\"T_8c199db4_b2db_11eb_b27d_0242ac1c0002row6_col7\" class=\"data row6 col7\" >0.652821</td>\n",
              "            </tr>\n",
              "            <tr>\n",
              "                        <th id=\"T_8c199db4_b2db_11eb_b27d_0242ac1c0002level0_row7\" class=\"row_heading level0 row7\" >MLP</th>\n",
              "                        <td id=\"T_8c199db4_b2db_11eb_b27d_0242ac1c0002row7_col0\" class=\"data row7 col0\" >0.729858</td>\n",
              "                        <td id=\"T_8c199db4_b2db_11eb_b27d_0242ac1c0002row7_col1\" class=\"data row7 col1\" >0.743463</td>\n",
              "                        <td id=\"T_8c199db4_b2db_11eb_b27d_0242ac1c0002row7_col2\" class=\"data row7 col2\" >0.573846</td>\n",
              "                        <td id=\"T_8c199db4_b2db_11eb_b27d_0242ac1c0002row7_col3\" class=\"data row7 col3\" >0.570325</td>\n",
              "                        <td id=\"T_8c199db4_b2db_11eb_b27d_0242ac1c0002row7_col4\" class=\"data row7 col4\" >0.607219</td>\n",
              "                        <td id=\"T_8c199db4_b2db_11eb_b27d_0242ac1c0002row7_col5\" class=\"data row7 col5\" >0.637762</td>\n",
              "                        <td id=\"T_8c199db4_b2db_11eb_b27d_0242ac1c0002row7_col6\" class=\"data row7 col6\" >0.652821</td>\n",
              "                        <td id=\"T_8c199db4_b2db_11eb_b27d_0242ac1c0002row7_col7\" class=\"data row7 col7\" >1.000000</td>\n",
              "            </tr>\n",
              "    </tbody></table>"
            ],
            "text/plain": [
              "<pandas.io.formats.style.Styler at 0x7f2c60de1a90>"
            ]
          },
          "metadata": {
            "tags": []
          },
          "execution_count": 38
        }
      ]
    },
    {
      "cell_type": "markdown",
      "metadata": {
        "id": "KtY8uE1XBgF9"
      },
      "source": [
        "Mesmo tendo uma alta correlação entre algumas variáveis, será realizado um primeiro teste com todos os classificadores.\n",
        " "
      ]
    },
    {
      "cell_type": "code",
      "metadata": {
        "id": "oCsoB6VsGAAV"
      },
      "source": [
        "c          = np.arange(0.1,0.9,0.01)\n",
        "acerto_v   = np.zeros((len(c),10))\n",
        "acerto_v1  = np.zeros(10) \n",
        "\n",
        "j = 0\n",
        "\n",
        "kf = KFold(n_splits=10,random_state=5, shuffle=True)\n",
        "for i in range(len(c)):\n",
        "  j = 0\n",
        "  for tr, ts in kf.split(X,y):\n",
        "    \n",
        "    Xtr, Xval = second_level[tr], second_level[ts]\n",
        "    ytr, yval = y.iloc[tr], y.iloc[ts]\n",
        "        \n",
        "    lr_stack = LogisticRegression(C = 1.,max_iter = 5000)\n",
        "    lr_stack.fit(Xtr, ytr)\n",
        "    plr_stack = lr_stack.predict_proba(Xval)[:,1]\n",
        "    plr_stack_ = (plr_stack > c[i]).astype(int)\n",
        "      \n",
        "    acerto_v[i,j]  = f1_score(yval, plr_stack_)\n",
        "    acerto_v1[j]   = log_loss(yval, plr_stack)\n",
        "\n",
        "    j= j + 1"
      ],
      "execution_count": null,
      "outputs": []
    },
    {
      "cell_type": "code",
      "metadata": {
        "colab": {
          "base_uri": "https://localhost:8080/"
        },
        "id": "GmmxFkd502lt",
        "outputId": "abb8a2fd-ed8a-426f-815e-2d345bb2ed6b"
      },
      "source": [
        "for i in range(len(c)):\n",
        "  print('Corte',str(c[i]))\n",
        "  print('f1:',np.format_float_positional(np.mean(acerto_v[i]),5),'Erro:',np.format_float_positional(np.std(acerto_v[i])/np.sqrt(10),5),'Desvio padrão:',np.format_float_positional(np.std(acerto_v[i]),5))\n",
        "  print('\\n')"
      ],
      "execution_count": null,
      "outputs": [
        {
          "output_type": "stream",
          "text": [
            "Corte 0.1\n",
            "f1: 0.66437 Erro: 0.00379 Desvio padrão: 0.01199\n",
            "\n",
            "\n",
            "Corte 0.11\n",
            "f1: 0.66471 Erro: 0.00388 Desvio padrão: 0.01228\n",
            "\n",
            "\n",
            "Corte 0.12\n",
            "f1: 0.66555 Erro: 0.00377 Desvio padrão: 0.01191\n",
            "\n",
            "\n",
            "Corte 0.13\n",
            "f1: 0.66659 Erro: 0.00423 Desvio padrão: 0.01337\n",
            "\n",
            "\n",
            "Corte 0.13999999999999999\n",
            "f1: 0.66763 Erro: 0.00430 Desvio padrão: 0.01361\n",
            "\n",
            "\n",
            "Corte 0.14999999999999997\n",
            "f1: 0.67037 Erro: 0.00381 Desvio padrão: 0.01205\n",
            "\n",
            "\n",
            "Corte 0.15999999999999998\n",
            "f1: 0.67216 Erro: 0.00338 Desvio padrão: 0.01069\n",
            "\n",
            "\n",
            "Corte 0.16999999999999998\n",
            "f1: 0.67469 Erro: 0.00364 Desvio padrão: 0.01152\n",
            "\n",
            "\n",
            "Corte 0.17999999999999997\n",
            "f1: 0.67611 Erro: 0.0034 Desvio padrão: 0.01074\n",
            "\n",
            "\n",
            "Corte 0.18999999999999995\n",
            "f1: 0.67831 Erro: 0.00363 Desvio padrão: 0.01147\n",
            "\n",
            "\n",
            "Corte 0.19999999999999996\n",
            "f1: 0.67996 Erro: 0.00354 Desvio padrão: 0.01119\n",
            "\n",
            "\n",
            "Corte 0.20999999999999996\n",
            "f1: 0.68244 Erro: 0.00355 Desvio padrão: 0.01122\n",
            "\n",
            "\n",
            "Corte 0.21999999999999995\n",
            "f1: 0.68358 Erro: 0.00402 Desvio padrão: 0.01271\n",
            "\n",
            "\n",
            "Corte 0.22999999999999995\n",
            "f1: 0.68521 Erro: 0.0043 Desvio padrão: 0.0136\n",
            "\n",
            "\n",
            "Corte 0.23999999999999994\n",
            "f1: 0.68788 Erro: 0.00425 Desvio padrão: 0.01345\n",
            "\n",
            "\n",
            "Corte 0.24999999999999992\n",
            "f1: 0.69194 Erro: 0.00374 Desvio padrão: 0.01182\n",
            "\n",
            "\n",
            "Corte 0.2599999999999999\n",
            "f1: 0.69448 Erro: 0.00418 Desvio padrão: 0.01323\n",
            "\n",
            "\n",
            "Corte 0.2699999999999999\n",
            "f1: 0.69636 Erro: 0.00423 Desvio padrão: 0.01339\n",
            "\n",
            "\n",
            "Corte 0.2799999999999999\n",
            "f1: 0.69798 Erro: 0.00419 Desvio padrão: 0.01324\n",
            "\n",
            "\n",
            "Corte 0.2899999999999999\n",
            "f1: 0.70121 Erro: 0.00403 Desvio padrão: 0.01273\n",
            "\n",
            "\n",
            "Corte 0.29999999999999993\n",
            "f1: 0.70204 Erro: 0.00395 Desvio padrão: 0.01251\n",
            "\n",
            "\n",
            "Corte 0.30999999999999994\n",
            "f1: 0.70482 Erro: 0.00432 Desvio padrão: 0.01365\n",
            "\n",
            "\n",
            "Corte 0.3199999999999999\n",
            "f1: 0.70556 Erro: 0.00443 Desvio padrão: 0.014\n",
            "\n",
            "\n",
            "Corte 0.32999999999999985\n",
            "f1: 0.70803 Erro: 0.00445 Desvio padrão: 0.01408\n",
            "\n",
            "\n",
            "Corte 0.33999999999999986\n",
            "f1: 0.70973 Erro: 0.00437 Desvio padrão: 0.01380\n",
            "\n",
            "\n",
            "Corte 0.34999999999999987\n",
            "f1: 0.70907 Erro: 0.00392 Desvio padrão: 0.01241\n",
            "\n",
            "\n",
            "Corte 0.3599999999999999\n",
            "f1: 0.70533 Erro: 0.00367 Desvio padrão: 0.01162\n",
            "\n",
            "\n",
            "Corte 0.3699999999999999\n",
            "f1: 0.70706 Erro: 0.00372 Desvio padrão: 0.01176\n",
            "\n",
            "\n",
            "Corte 0.3799999999999999\n",
            "f1: 0.70628 Erro: 0.00285 Desvio padrão: 0.00902\n",
            "\n",
            "\n",
            "Corte 0.3899999999999999\n",
            "f1: 0.70547 Erro: 0.0037 Desvio padrão: 0.01169\n",
            "\n",
            "\n",
            "Corte 0.3999999999999998\n",
            "f1: 0.70603 Erro: 0.00398 Desvio padrão: 0.01258\n",
            "\n",
            "\n",
            "Corte 0.4099999999999998\n",
            "f1: 0.70456 Erro: 0.0047 Desvio padrão: 0.01486\n",
            "\n",
            "\n",
            "Corte 0.4199999999999998\n",
            "f1: 0.70052 Erro: 0.00432 Desvio padrão: 0.01367\n",
            "\n",
            "\n",
            "Corte 0.4299999999999998\n",
            "f1: 0.69962 Erro: 0.00375 Desvio padrão: 0.01186\n",
            "\n",
            "\n",
            "Corte 0.43999999999999984\n",
            "f1: 0.69595 Erro: 0.00396 Desvio padrão: 0.01254\n",
            "\n",
            "\n",
            "Corte 0.44999999999999984\n",
            "f1: 0.69656 Erro: 0.00403 Desvio padrão: 0.01273\n",
            "\n",
            "\n",
            "Corte 0.45999999999999985\n",
            "f1: 0.69581 Erro: 0.00440 Desvio padrão: 0.01392\n",
            "\n",
            "\n",
            "Corte 0.46999999999999986\n",
            "f1: 0.69238 Erro: 0.00421 Desvio padrão: 0.01333\n",
            "\n",
            "\n",
            "Corte 0.47999999999999976\n",
            "f1: 0.69173 Erro: 0.00506 Desvio padrão: 0.01601\n",
            "\n",
            "\n",
            "Corte 0.48999999999999977\n",
            "f1: 0.69091 Erro: 0.00524 Desvio padrão: 0.01658\n",
            "\n",
            "\n",
            "Corte 0.4999999999999998\n",
            "f1: 0.68798 Erro: 0.00565 Desvio padrão: 0.01787\n",
            "\n",
            "\n",
            "Corte 0.5099999999999998\n",
            "f1: 0.68611 Erro: 0.00579 Desvio padrão: 0.01832\n",
            "\n",
            "\n",
            "Corte 0.5199999999999998\n",
            "f1: 0.68389 Erro: 0.00548 Desvio padrão: 0.01734\n",
            "\n",
            "\n",
            "Corte 0.5299999999999998\n",
            "f1: 0.67719 Erro: 0.00633 Desvio padrão: 0.02001\n",
            "\n",
            "\n",
            "Corte 0.5399999999999998\n",
            "f1: 0.66985 Erro: 0.00707 Desvio padrão: 0.02236\n",
            "\n",
            "\n",
            "Corte 0.5499999999999998\n",
            "f1: 0.66508 Erro: 0.00663 Desvio padrão: 0.02095\n",
            "\n",
            "\n",
            "Corte 0.5599999999999997\n",
            "f1: 0.66126 Erro: 0.00672 Desvio padrão: 0.02125\n",
            "\n",
            "\n",
            "Corte 0.5699999999999997\n",
            "f1: 0.65514 Erro: 0.00634 Desvio padrão: 0.02006\n",
            "\n",
            "\n",
            "Corte 0.5799999999999997\n",
            "f1: 0.65173 Erro: 0.00692 Desvio padrão: 0.02188\n",
            "\n",
            "\n",
            "Corte 0.5899999999999997\n",
            "f1: 0.64632 Erro: 0.00701 Desvio padrão: 0.02216\n",
            "\n",
            "\n",
            "Corte 0.5999999999999998\n",
            "f1: 0.64285 Erro: 0.00724 Desvio padrão: 0.02290\n",
            "\n",
            "\n",
            "Corte 0.6099999999999998\n",
            "f1: 0.63598 Erro: 0.00788 Desvio padrão: 0.02491\n",
            "\n",
            "\n",
            "Corte 0.6199999999999998\n",
            "f1: 0.63262 Erro: 0.00825 Desvio padrão: 0.02610\n",
            "\n",
            "\n",
            "Corte 0.6299999999999997\n",
            "f1: 0.62428 Erro: 0.00961 Desvio padrão: 0.0304\n",
            "\n",
            "\n",
            "Corte 0.6399999999999997\n",
            "f1: 0.6182 Erro: 0.01051 Desvio padrão: 0.03322\n",
            "\n",
            "\n",
            "Corte 0.6499999999999997\n",
            "f1: 0.61522 Erro: 0.01015 Desvio padrão: 0.0321\n",
            "\n",
            "\n",
            "Corte 0.6599999999999997\n",
            "f1: 0.60895 Erro: 0.00995 Desvio padrão: 0.03148\n",
            "\n",
            "\n",
            "Corte 0.6699999999999997\n",
            "f1: 0.60218 Erro: 0.0097 Desvio padrão: 0.03067\n",
            "\n",
            "\n",
            "Corte 0.6799999999999997\n",
            "f1: 0.59605 Erro: 0.00935 Desvio padrão: 0.02957\n",
            "\n",
            "\n",
            "Corte 0.6899999999999997\n",
            "f1: 0.59044 Erro: 0.00955 Desvio padrão: 0.03019\n",
            "\n",
            "\n",
            "Corte 0.6999999999999996\n",
            "f1: 0.58269 Erro: 0.00999 Desvio padrão: 0.03158\n",
            "\n",
            "\n",
            "Corte 0.7099999999999996\n",
            "f1: 0.57381 Erro: 0.01041 Desvio padrão: 0.03291\n",
            "\n",
            "\n",
            "Corte 0.7199999999999996\n",
            "f1: 0.56465 Erro: 0.01064 Desvio padrão: 0.03366\n",
            "\n",
            "\n",
            "Corte 0.7299999999999996\n",
            "f1: 0.55097 Erro: 0.01034 Desvio padrão: 0.0327\n",
            "\n",
            "\n",
            "Corte 0.7399999999999997\n",
            "f1: 0.54159 Erro: 0.01085 Desvio padrão: 0.03431\n",
            "\n",
            "\n",
            "Corte 0.7499999999999997\n",
            "f1: 0.53039 Erro: 0.01219 Desvio padrão: 0.03853\n",
            "\n",
            "\n",
            "Corte 0.7599999999999997\n",
            "f1: 0.51823 Erro: 0.01274 Desvio padrão: 0.04028\n",
            "\n",
            "\n",
            "Corte 0.7699999999999997\n",
            "f1: 0.50564 Erro: 0.01239 Desvio padrão: 0.03917\n",
            "\n",
            "\n",
            "Corte 0.7799999999999997\n",
            "f1: 0.48843 Erro: 0.01207 Desvio padrão: 0.03817\n",
            "\n",
            "\n",
            "Corte 0.7899999999999996\n",
            "f1: 0.47325 Erro: 0.01257 Desvio padrão: 0.03975\n",
            "\n",
            "\n",
            "Corte 0.7999999999999996\n",
            "f1: 0.45681 Erro: 0.0121 Desvio padrão: 0.03825\n",
            "\n",
            "\n",
            "Corte 0.8099999999999996\n",
            "f1: 0.44171 Erro: 0.01421 Desvio padrão: 0.04495\n",
            "\n",
            "\n",
            "Corte 0.8199999999999996\n",
            "f1: 0.41740 Erro: 0.01495 Desvio padrão: 0.04727\n",
            "\n",
            "\n",
            "Corte 0.8299999999999996\n",
            "f1: 0.40019 Erro: 0.01470 Desvio padrão: 0.04650\n",
            "\n",
            "\n",
            "Corte 0.8399999999999996\n",
            "f1: 0.37126 Erro: 0.01406 Desvio padrão: 0.04446\n",
            "\n",
            "\n",
            "Corte 0.8499999999999996\n",
            "f1: 0.34421 Erro: 0.01301 Desvio padrão: 0.04116\n",
            "\n",
            "\n",
            "Corte 0.8599999999999995\n",
            "f1: 0.31242 Erro: 0.01105 Desvio padrão: 0.03495\n",
            "\n",
            "\n",
            "Corte 0.8699999999999996\n",
            "f1: 0.28173 Erro: 0.00877 Desvio padrão: 0.02773\n",
            "\n",
            "\n",
            "Corte 0.8799999999999996\n",
            "f1: 0.23759 Erro: 0.00800 Desvio padrão: 0.02530\n",
            "\n",
            "\n",
            "Corte 0.8899999999999996\n",
            "f1: 0.18726 Erro: 0.00706 Desvio padrão: 0.02231\n",
            "\n",
            "\n"
          ],
          "name": "stdout"
        }
      ]
    },
    {
      "cell_type": "code",
      "metadata": {
        "id": "Mu9-2hhsBg5I"
      },
      "source": [
        ""
      ],
      "execution_count": null,
      "outputs": []
    },
    {
      "cell_type": "code",
      "metadata": {
        "id": "4G-SEYLQBg7w"
      },
      "source": [
        "a = np.mean(acerto_v,axis = 1)\n",
        "b = np.std(acerto_v,axis = 1)\n",
        "\n",
        "f1.append(np.max(a))\n",
        "f1s.append(np.max(b[np.argmax(a)]))\n",
        "\n",
        "loss.append(np.mean(acerto_v1))\n",
        "loss_s.append(np.std(acerto_f1))"
      ],
      "execution_count": null,
      "outputs": []
    },
    {
      "cell_type": "code",
      "metadata": {
        "colab": {
          "base_uri": "https://localhost:8080/",
          "height": 370
        },
        "id": "Zf9QkLNtBhAv",
        "outputId": "5fc1442d-5a35-4d38-ea50-c0e0e721fd4c"
      },
      "source": [
        "langs = ['Fl', 'Et', 'LR_s', 'LR_m', 'Knn_s','Knn_m','XGB','MLP','Fl_max','L1']\n",
        "plt.rc('xtick', labelsize=20) \n",
        "plt.rc('ytick', labelsize=20)\n",
        "\n",
        "plt.figure(figsize= (30,8))\n",
        "plt.subplot(1,2,1)\n",
        "plt.title('f1-score',fontsize = 24)\n",
        "plt.bar(langs,np.array(f1),yerr = np.array(f1s)/np.sqrt(10),color = 'black',alpha =0.5)\n",
        "plt.ylabel('f1',fontsize = 22)\n",
        "plt.ylim(0.62,.75)\n",
        "plt.grid(linestyle='--', linewidth=0.5)\n",
        "\n",
        "\n",
        "plt.subplot(1,2,2)\n",
        "plt.title('Log-loss',fontsize = 24)\n",
        "plt.bar(langs,np.array(loss),yerr = np.array(loss_s)/np.sqrt(10), color = 'black',alpha =0.5)\n",
        "plt.ylabel('Log Loss',fontsize = 22)\n",
        "plt.ylim(0.56,.9)\n",
        "plt.grid(linestyle='--', linewidth=0.5)\n",
        "\n",
        "\n",
        "plt.show()\n",
        "\n",
        "\n",
        "\n"
      ],
      "execution_count": null,
      "outputs": [
        {
          "output_type": "display_data",
          "data": {
            "image/png": "[encoded data removed]",
            "text/plain": [
              "<Figure size 2160x576 with 2 Axes>"
            ]
          },
          "metadata": {
            "tags": [],
            "needs_background": "light"
          }
        }
      ]
    },
    {
      "cell_type": "markdown",
      "metadata": {
        "id": "6jAgmc9QDEQw"
      },
      "source": [
        "> FL_max - > Floresta aleatória com o ponto de corte otimizado\n",
        " \n",
        "> L1 - > Staking com o ponto de corte otimizado\n",
        " \n",
        "---\n",
        " \n",
        "O melhor resultado atingido foi com o modelo L1 e um de limiar de 0.35. Este limiar pode estar privilegiando só os acertos verdadeiros positivos. Por causa deste motivo também será avaliado a precisão em relação ao acerto dos verdadeiros negativos. Esta análise também será feita pelo fato que se os dados de teste tiverem mais dados de classe 0, o limiar deverá ser mudado. **(análise futura)** \n",
        " \n",
        "---\n",
        " \n",
        "Como posso enviar 5 submissões. Eu irei enviar os dados de teste com o valor de limiar com melhor desempenho de f1-score para o modelo. Se o desepenho for ruim irei aplicar análise que foi dita anterior\n",
        " \n",
        " \n",
        " \n",
        "\n"
      ]
    },
    {
      "cell_type": "markdown",
      "metadata": {
        "id": "OVBQK5nrsUIc"
      },
      "source": [
        "# Olhando o melhor valor"
      ]
    },
    {
      "cell_type": "code",
      "metadata": {
        "colab": {
          "base_uri": "https://localhost:8080/"
        },
        "id": "ypQabkPOm8G1",
        "outputId": "47fe3f6f-b21e-4f26-c393-c79a8d33321d"
      },
      "source": [
        "print('f1-score:',f1[-1],'desvio padrão',f1s[-1],' erro:',np.array(f1s[-1])/np.sqrt(10))\n",
        "print('log-loss:',loss[-1],'desvio padrão',loss_s[-1],'erro:',np.array(loss_s[-1])/np.sqrt(10))"
      ],
      "execution_count": null,
      "outputs": [
        {
          "output_type": "stream",
          "text": [
            "f1-score: 0.7097260287725455 desvio padrão 0.01380461187742042  erro: 0.0043654015747261665\n",
            "log-loss: 0.5705773237755702 desvio padrão 0.017496469764743575 erro: 0.005532869546886011\n"
          ],
          "name": "stdout"
        }
      ]
    },
    {
      "cell_type": "markdown",
      "metadata": {
        "id": "g6Kk4nSEtFjt"
      },
      "source": [
        "# Envia os resultado pelo staking"
      ]
    },
    {
      "cell_type": "code",
      "metadata": {
        "id": "yYixRDLgWqyZ"
      },
      "source": [
        "def enconder_label_p2_teste(df):\n",
        "  coluna   = [ 'marital','contact','month']\n",
        "  #col      = ['default''housing','loan','job','education','poutcome']\n",
        "\n",
        "  #col                = ['job']\n",
        "#  df['term_deposit'] = df['term_deposit'].map({'no': 0, 'yes': 1})\n",
        "  df['housing']      = df['housing'].map({'no': 0, 'yes': 1})\n",
        "  df['loan']         = df['loan'].map({'no': 0, 'yes': 1})\n",
        "  df['education']    = df['education'].map({\"primary\": 0, \"secondary\":1, \"tertiary\":2,\"unknown\":3})\n",
        "  df['poutcome']     = df['poutcome'].map({\"failure\": 0, \"other\":1, \"success\":2, \"unknown\":3})\n",
        "  df['job']          = df['job'].map({\"admin.\": 0, \"blue-collar\":1, \"entrepreneur\":2, \"housemaid\":3, \"management\":4,\"retired\":5,\"self-employed\":6,\"services\":7,\"student\":8,\"technician\":9,\"unemployed\":10,\"unknown\":11})\n",
        "  #df  = df.copy()\n",
        "  \n",
        "  df['default']   = df['default'].map({'no': 0, 'yes': 1})\n",
        "  \n",
        "  \n",
        "  #df  = enconder_label(col,df)\n",
        "  df = df.drop(columns = 'Unnamed: 0')\n",
        "  #df1  = enconder_label(col,df1)\n",
        "\n",
        "  #df_teste = enconder_label(col,df_teste)\n",
        "\n",
        "  #print('a')\n",
        "  for i in range(len(coluna)):\n",
        "      df = df.join(pd.get_dummies(df[coluna[i]], prefix=coluna[i]))\n",
        "      df = df.drop(columns=coluna[i])\n",
        "\n",
        "    # df_teste = df_teste.join(pd.get_dummies(df_teste[coluna[i]], prefix=coluna[i]))\n",
        "    # df_teste = df_teste.drop(columns=coluna[i])\n",
        "\n",
        "  return df"
      ],
      "execution_count": null,
      "outputs": []
    },
    {
      "cell_type": "code",
      "metadata": {
        "id": "C2SvXAtXjF_U"
      },
      "source": [
        "df_teste = enconder_label_p2_teste(df_teste)"
      ],
      "execution_count": null,
      "outputs": []
    },
    {
      "cell_type": "code",
      "metadata": {
        "id": "7EeH9DUdjGBh"
      },
      "source": [
        "X_teste  = df_teste"
      ],
      "execution_count": null,
      "outputs": []
    },
    {
      "cell_type": "code",
      "metadata": {
        "id": "3bs83H-fuo0H"
      },
      "source": [
        "\n",
        "\n",
        "second_level_teste = np.zeros((X_teste.shape[0], 8))\n",
        "\n",
        "\n",
        "   \n",
        "# floresta aleatoria\n",
        "rf = RandomForestClassifier(n_estimators=1000, n_jobs=6, random_state=10)\n",
        "rf.fit(X, y)\n",
        "prf = rf.predict_proba(X_teste)[:,1]\n",
        "\n",
        "\n",
        "# Estratrees\n",
        "et = ExtraTreesClassifier(n_estimators=1000, n_jobs=6, random_state=10)\n",
        "et.fit(X, y)\n",
        "pet = et.predict_proba(X_teste)[:,1]\n",
        "       \n",
        "# regressão logistica normalizada pelo desvio padrãão\n",
        "lr1 = make_pipeline(StandardScaler(), LogisticRegression())\n",
        "lr1.fit(X, y)\n",
        "plr1 = lr1.predict_proba(X_teste)[:,1]\n",
        "      \n",
        "# regressão logistica normalizada pelo minmax\n",
        "lr2 = make_pipeline(MinMaxScaler(), LogisticRegression())\n",
        "lr2.fit(X, y)\n",
        "plr2 = lr2.predict_proba(X_teste)[:,1]\n",
        "  \n",
        "# regressão knn normalizada pelo minmax\n",
        "knn1 = make_pipeline(MinMaxScaler(), KNeighborsClassifier(n_neighbors=100))\n",
        "knn1.fit(X, y)\n",
        "klr1 = knn1.predict_proba(X_teste)[:,1]\n",
        "\n",
        "# regressão knn normalizada pelo desvio padrãão\n",
        "knn2 = make_pipeline(StandardScaler(), KNeighborsClassifier(n_neighbors=100))\n",
        "knn2.fit(X, y)\n",
        "klr2 = knn2.predict_proba(X_teste)[:,1]\n",
        "  \n",
        "# XGB \n",
        "XGB = XGBClassifier(n_estimators=1000, n_jobs=6, random_state=10)\n",
        "XGB.fit(X, y)\n",
        "XGBlr2 = XGB.predict_proba(X_teste)[:,1]\n",
        "\n",
        "# MLP classificador\n",
        "clf = MLPClassifier(hidden_layer_sizes=[30,30], solver='adam', alpha=1e-5, random_state=1, max_iter=1000)\n",
        "clf2 = make_pipeline(StandardScaler(), clf)\n",
        "\n",
        "clf2.fit(X, y)\n",
        "clfp = clf2.predict_proba(X_teste)[:,1]\n",
        "    \n",
        "\n",
        "\n",
        "second_level_teste[:, 0] = prf\n",
        "second_level_teste[:, 1] = pet\n",
        "second_level_teste[:, 2] = plr1\n",
        "second_level_teste[:, 3] = plr2\n",
        "second_level_teste[:, 4] = klr1\n",
        "second_level_teste[:, 5] = klr2\n",
        "second_level_teste[:, 6] = XGBlr2\n",
        "second_level_teste[:, 7] = clfp\n",
        "\n",
        "# fatores de diversidade"
      ],
      "execution_count": null,
      "outputs": []
    },
    {
      "cell_type": "code",
      "metadata": {
        "id": "OCBjJiFbmklc"
      },
      "source": [
        "c = np.arange(0.1,1,0.01)[ind]\n",
        "\n",
        "X = second_level\n",
        "X_T = second_level_teste\n",
        "        \n",
        "lr_stack = LogisticRegression(C = 1.,max_iter = 5000)\n",
        "lr_stack.fit(X, y)\n",
        "plr_stack = lr_stack.predict_proba(X_T)[:,1]\n",
        "plr_stack_ = (plr_stack > 0.35).astype(int)    "
      ],
      "execution_count": null,
      "outputs": []
    },
    {
      "cell_type": "code",
      "metadata": {
        "colab": {
          "base_uri": "https://localhost:8080/"
        },
        "id": "Qw_MIMbdmksZ",
        "outputId": "e88d26e5-1872-4997-db10-58fa113a9feb"
      },
      "source": [
        "plr_stack_"
      ],
      "execution_count": null,
      "outputs": [
        {
          "output_type": "execute_result",
          "data": {
            "text/plain": [
              "array([0, 0, 0, ..., 1, 1, 1])"
            ]
          },
          "metadata": {
            "tags": []
          },
          "execution_count": 95
        }
      ]
    },
    {
      "cell_type": "code",
      "metadata": {
        "colab": {
          "base_uri": "https://localhost:8080/",
          "height": 424
        },
        "id": "Mt6ZttYzmkvV",
        "outputId": "d11dcade-5b6f-4460-eaaf-e8de61ff6225"
      },
      "source": [
        "predicao_final = pd.DataFrame()\n",
        "predicao_final['term_deposit'] = plr_stack_\n",
        "predicao_final"
      ],
      "execution_count": null,
      "outputs": [
        {
          "output_type": "execute_result",
          "data": {
            "text/html": [
              "<div>\n",
              "<style scoped>\n",
              "    .dataframe tbody tr th:only-of-type {\n",
              "        vertical-align: middle;\n",
              "    }\n",
              "\n",
              "    .dataframe tbody tr th {\n",
              "        vertical-align: top;\n",
              "    }\n",
              "\n",
              "    .dataframe thead th {\n",
              "        text-align: right;\n",
              "    }\n",
              "</style>\n",
              "<table border=\"1\" class=\"dataframe\">\n",
              "  <thead>\n",
              "    <tr style=\"text-align: right;\">\n",
              "      <th></th>\n",
              "      <th>term_deposit</th>\n",
              "    </tr>\n",
              "  </thead>\n",
              "  <tbody>\n",
              "    <tr>\n",
              "      <th>0</th>\n",
              "      <td>0</td>\n",
              "    </tr>\n",
              "    <tr>\n",
              "      <th>1</th>\n",
              "      <td>0</td>\n",
              "    </tr>\n",
              "    <tr>\n",
              "      <th>2</th>\n",
              "      <td>0</td>\n",
              "    </tr>\n",
              "    <tr>\n",
              "      <th>3</th>\n",
              "      <td>0</td>\n",
              "    </tr>\n",
              "    <tr>\n",
              "      <th>4</th>\n",
              "      <td>1</td>\n",
              "    </tr>\n",
              "    <tr>\n",
              "      <th>...</th>\n",
              "      <td>...</td>\n",
              "    </tr>\n",
              "    <tr>\n",
              "      <th>1417</th>\n",
              "      <td>1</td>\n",
              "    </tr>\n",
              "    <tr>\n",
              "      <th>1418</th>\n",
              "      <td>1</td>\n",
              "    </tr>\n",
              "    <tr>\n",
              "      <th>1419</th>\n",
              "      <td>1</td>\n",
              "    </tr>\n",
              "    <tr>\n",
              "      <th>1420</th>\n",
              "      <td>1</td>\n",
              "    </tr>\n",
              "    <tr>\n",
              "      <th>1421</th>\n",
              "      <td>1</td>\n",
              "    </tr>\n",
              "  </tbody>\n",
              "</table>\n",
              "<p>1422 rows × 1 columns</p>\n",
              "</div>"
            ],
            "text/plain": [
              "      term_deposit\n",
              "0                0\n",
              "1                0\n",
              "2                0\n",
              "3                0\n",
              "4                1\n",
              "...            ...\n",
              "1417             1\n",
              "1418             1\n",
              "1419             1\n",
              "1420             1\n",
              "1421             1\n",
              "\n",
              "[1422 rows x 1 columns]"
            ]
          },
          "metadata": {
            "tags": []
          },
          "execution_count": 99
        }
      ]
    },
    {
      "cell_type": "code",
      "metadata": {
        "id": "eoR1kfkWmN4S"
      },
      "source": [
        "predicao_final.to_csv('/content/drive/My Drive/Competição FLAI/Submissão.csv', index = False)"
      ],
      "execution_count": null,
      "outputs": []
    },
    {
      "cell_type": "code",
      "metadata": {
        "id": "ZFR4p1vpsGoz"
      },
      "source": [
        "\n"
      ],
      "execution_count": null,
      "outputs": []
    },
    {
      "cell_type": "markdown",
      "metadata": {
        "id": "aQEEI7snrHXX"
      },
      "source": [
        "# Enviar o resultado da floresta aleatoria"
      ]
    },
    {
      "cell_type": "code",
      "metadata": {
        "id": "_R1kbppm4e-K"
      },
      "source": [
        "X  = df_aux.drop(columns='term_deposit')\n",
        "y = df_aux['term_deposit']\n",
        "    "
      ],
      "execution_count": null,
      "outputs": []
    },
    {
      "cell_type": "code",
      "metadata": {
        "id": "fIkdG8JimN8C"
      },
      "source": [
        "# floresta aleatoria\n",
        "rf = RandomForestClassifier(n_estimators=1000, n_jobs=6, random_state=10)\n",
        "rf.fit(X, y)\n",
        "prf = rf.predict_proba(X_teste)[:,1]\n",
        "prf_ = (prf > 0.4).astype(int)"
      ],
      "execution_count": null,
      "outputs": []
    },
    {
      "cell_type": "code",
      "metadata": {
        "id": "MWeyoKTV4N1U"
      },
      "source": [
        "#X_teste"
      ],
      "execution_count": null,
      "outputs": []
    },
    {
      "cell_type": "code",
      "metadata": {
        "colab": {
          "base_uri": "https://localhost:8080/",
          "height": 424
        },
        "id": "q2omqqA2zG2_",
        "outputId": "d1ab8bd4-35d6-4ed9-d96a-36d3eb77e207"
      },
      "source": [
        "predicao_final = pd.DataFrame()\n",
        "predicao_final['term_deposit'] = prf_\n",
        "predicao_final"
      ],
      "execution_count": null,
      "outputs": [
        {
          "output_type": "execute_result",
          "data": {
            "text/html": [
              "<div>\n",
              "<style scoped>\n",
              "    .dataframe tbody tr th:only-of-type {\n",
              "        vertical-align: middle;\n",
              "    }\n",
              "\n",
              "    .dataframe tbody tr th {\n",
              "        vertical-align: top;\n",
              "    }\n",
              "\n",
              "    .dataframe thead th {\n",
              "        text-align: right;\n",
              "    }\n",
              "</style>\n",
              "<table border=\"1\" class=\"dataframe\">\n",
              "  <thead>\n",
              "    <tr style=\"text-align: right;\">\n",
              "      <th></th>\n",
              "      <th>term_deposit</th>\n",
              "    </tr>\n",
              "  </thead>\n",
              "  <tbody>\n",
              "    <tr>\n",
              "      <th>0</th>\n",
              "      <td>0</td>\n",
              "    </tr>\n",
              "    <tr>\n",
              "      <th>1</th>\n",
              "      <td>0</td>\n",
              "    </tr>\n",
              "    <tr>\n",
              "      <th>2</th>\n",
              "      <td>0</td>\n",
              "    </tr>\n",
              "    <tr>\n",
              "      <th>3</th>\n",
              "      <td>0</td>\n",
              "    </tr>\n",
              "    <tr>\n",
              "      <th>4</th>\n",
              "      <td>1</td>\n",
              "    </tr>\n",
              "    <tr>\n",
              "      <th>...</th>\n",
              "      <td>...</td>\n",
              "    </tr>\n",
              "    <tr>\n",
              "      <th>1417</th>\n",
              "      <td>1</td>\n",
              "    </tr>\n",
              "    <tr>\n",
              "      <th>1418</th>\n",
              "      <td>1</td>\n",
              "    </tr>\n",
              "    <tr>\n",
              "      <th>1419</th>\n",
              "      <td>1</td>\n",
              "    </tr>\n",
              "    <tr>\n",
              "      <th>1420</th>\n",
              "      <td>1</td>\n",
              "    </tr>\n",
              "    <tr>\n",
              "      <th>1421</th>\n",
              "      <td>1</td>\n",
              "    </tr>\n",
              "  </tbody>\n",
              "</table>\n",
              "<p>1422 rows × 1 columns</p>\n",
              "</div>"
            ],
            "text/plain": [
              "      term_deposit\n",
              "0                0\n",
              "1                0\n",
              "2                0\n",
              "3                0\n",
              "4                1\n",
              "...            ...\n",
              "1417             1\n",
              "1418             1\n",
              "1419             1\n",
              "1420             1\n",
              "1421             1\n",
              "\n",
              "[1422 rows x 1 columns]"
            ]
          },
          "metadata": {
            "tags": []
          },
          "execution_count": 108
        }
      ]
    },
    {
      "cell_type": "code",
      "metadata": {
        "id": "tAsueQPtzG5Y"
      },
      "source": [
        "predicao_final.to_csv('/content/drive/My Drive/Competição FLAI/Submissão1.csv', index = False)"
      ],
      "execution_count": null,
      "outputs": []
    },
    {
      "cell_type": "markdown",
      "metadata": {
        "id": "HeHuASgm8cgM"
      },
      "source": [
        "# Referências\n",
        "https://medium.com/ensina-ai/uma-explica%C3%A7%C3%A3o-visual-para-fun%C3%A7%C3%A3o-de-custo-binary-cross-entropy-ou-log-loss-eaee662c396c\n",
        "\n",
        "https://github.com/ledmaster/notebooks_tutoriais/tree/master/live17_stacking "
      ]
    },
    {
      "cell_type": "markdown",
      "metadata": {
        "id": "Z-_fBilnE9nd"
      },
      "source": [
        ""
      ]
    },
    {
      "cell_type": "markdown",
      "metadata": {
        "id": "DzUvPUo_E9pp"
      },
      "source": [
        "# Conclusão\n",
        " \n",
        "Temos as seguintes conclusões:\n",
        "* O melhor modelo que atingiu a melhor performance foi o staking com o resultado de 0.7198. Este resultado foi o melhor da competição.\n",
        " \n",
        "* Outros testes podem ser feitos como a discretização da variável age, encontrar os melhores parâmetros dos modelos que foram utilizados e eliminar os classificadores do level 1 do staking que apresentaram uma alta correlação.\n",
        " \n",
        "\n"
      ]
    },
    {
      "cell_type": "code",
      "metadata": {
        "id": "B7nw6wM0GnO7"
      },
      "source": [
        ""
      ],
      "execution_count": null,
      "outputs": []
    }
  ]
}